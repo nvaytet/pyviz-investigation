{
 "cells": [
  {
   "cell_type": "markdown",
   "metadata": {},
   "source": [
    "# Investigation of Python data visualization tools\n",
    "\n",
    "**Neil Vaytet, Piotr Rozyczko, Simon Ward, Andrew Sazonov**\n",
    "\n",
    "*Data Reduction Analysis & Modeling group, Data Management and Software Center, the European Spallation Source, Copenhagen, Denmark*"
   ]
  },
  {
   "cell_type": "markdown",
   "metadata": {},
   "source": [
    "## Table of contents\n",
    "\n",
    "* [Abstract](#abstract)\n",
    "* [Introduction](#introduction)\n",
    "\n",
    "\n",
    "* [Matplotlib](#matplotlib)\n",
    "* [Plotly](#plotly)\n",
    "* [PyQtGraph](#pyqtgraph)\n",
    "* [Bqplot](#bqplot)\n",
    "* [Holoviz](#holoviz)\n",
    "* [Ipyvolume](#ipyvolume)\n",
    "* [Pyvista](#pyvista)\n",
    "* [Altair](#altair)\n",
    "* [Vispy](#vispy)\n",
    "\n",
    "\n",
    "* [Conclusions](#conclusions)"
   ]
  },
  {
   "cell_type": "markdown",
   "metadata": {},
   "source": [
    "<a id='abstract'></a>\n",
    "## Abstract"
   ]
  },
  {
   "cell_type": "markdown",
   "metadata": {},
   "source": [
    "<a id='introduction'></a>\n",
    "## Introduction\n",
    "\n",
    "See the very useful 3-part post on the [Anaconda website](https://www.anaconda.com/python-data-visualization-2018-why-so-many-libraries/)\n",
    "\n",
    "![python-vis-landscape](https://www.anaconda.com/wp-content/uploads/2019/01/PythonVisLandscape.jpg)\n",
    "\n",
    "An almost complete list of packages can also be found [here](https://wiki.python.org/moin/NumericAndScientific/Plotting)"
   ]
  },
  {
   "cell_type": "markdown",
   "metadata": {},
   "source": [
    "<a id='matplotlib'></a>\n",
    "## Matplotlib (https://matplotlib.org/3.1.1/index.html)\n",
    "\n",
    "`matplotlib` is by far the most popular and widely used package in the scientific data visualization community. Supported by NumFOCUS, it is an old (started in 2003) and very mature project, and yet still sees very active development.\n",
    "It is the go-to library for creating publishable vector graphics pdf figures in articles, and specialises in 2D plots.\n",
    "\n",
    "It is either already installed on most systems, or very easy to install on all platforms. Its strength is on high-quality static figures, and is behind other projects on the interactivity side of things.\n",
    "\n",
    "It has some 3D capabilities through the `Axes3D`.\n",
    "\n",
    "To see what `matplotlib` can do, a good place to go is [its sample plots page](https://matplotlib.org/tutorials/introductory/sample_plots.html).\n",
    "\n",
    "A small example is shown below, to illustrate both the syntax and the output generated."
   ]
  },
  {
   "cell_type": "code",
   "execution_count": null,
   "metadata": {},
   "outputs": [],
   "source": [
    "import numpy as np\n",
    "import matplotlib.pyplot as plt"
   ]
  },
  {
   "cell_type": "code",
   "execution_count": null,
   "metadata": {},
   "outputs": [],
   "source": [
    "%matplotlib notebook"
   ]
  },
  {
   "cell_type": "code",
   "execution_count": null,
   "metadata": {},
   "outputs": [],
   "source": [
    "N = 50\n",
    "x = np.arange(N)\n",
    "y = np.arange(N)\n",
    "z = np.random.rand(N, N)\n",
    "\n",
    "fig, ax = plt.subplots(2, 2)\n",
    "ax[0][0].plot(x, z[:, 0])\n",
    "ax[0][0].set_title(\"1D line plot\")\n",
    "ax[0][1].hist(z[:, 0], bins=20)\n",
    "ax[0][1].set_title(\"1D histogram\")\n",
    "ax[1][0].imshow(z)\n",
    "ax[1][0].set_title(\"2D image\")\n",
    "ax[1][1].scatter(z[:, 0], z[:, 1], c=z[:, 2])\n",
    "ax[1][1].set_title(\"Scatter plot\")\n",
    "fig.show()"
   ]
  },
  {
   "cell_type": "markdown",
   "metadata": {},
   "source": [
    "### Interface\n",
    "\n",
    "When talking about `matplotlib`, a common complaint that arises is that the API is a little difficult to get around, especially for a non-experienced user/programmer. This is somewhat true, but in some sense a little inevitable in a highly customizable tool. It is however relatively straightforward to hide the interface from the user by creating pre-made wrapper functions that will cover 90% of the cases the users are after.\n",
    "\n",
    "Examples of this are very common, for example the `pandas` library uses `matplotlib` for creating plots from the contents of its data frames, via a simple `.plot` method."
   ]
  },
  {
   "cell_type": "markdown",
   "metadata": {},
   "source": [
    "### Interactivity\n",
    "\n",
    "Another common misconception is that interactivity is virtually not supported in `matplotlib`. In fact, the library allows multiple interactivity options with mouse events (scrolling, clicking), as well as via its own set of `widgets`. These include sliders, radio buttons, check boxes, etc... and are a nice alternative to `ipywidgets`, guaranteed to work out-of-the-box with matplotlib figures.\n",
    "\n",
    "See a [diagram](https://matplotlib.org/3.1.0/_images/inheritance-9d71a95f6d3ec40d1246549117ad7959f7b88c66.png) listing all the available widgets.\n",
    "\n",
    "Interactivity is available both in the default Qt render window, and in the Jupyter notebook. Note that for the latter, a magic command `%matplotlib notebook` needs to be added **in a separate cell** at the start of the notebook, otherwise only static images are produced. Hiding this cell from the notebook inside a library import (to save the user from having to enter it in every new notebook) is apparently not yet possible."
   ]
  },
  {
   "cell_type": "markdown",
   "metadata": {},
   "source": [
    "[A few noteable examples of interactive plots](examples/matplotlib.ipynb#interactive_examples)\n",
    "\n",
    "One has to note that, as illustrated by these additional examples, setting up interactivity in matplotlib takes more lines of code than in other projects, and there is definitely room for improvement in the interface."
   ]
  },
  {
   "cell_type": "markdown",
   "metadata": {},
   "source": [
    "### Performance\n",
    "\n",
    "`matplotlib` is very fast, especially for generating images with regularly-sized pixels via its `imshow` function which is much faster than other web-based solutions listed in this report.\n",
    "\n",
    "Saving figures to vector graphics (pdf) can however sometimes be a little slow.\n",
    "\n",
    "Interactivity with plots shows mixed performance. Zooming onto lines or images is fast, but interaction with widgets feels sluggish. It has to be noted that interaction is smoother inside the `Qt` window compared to the Jupyter notebook. Maybe some emulation is taking place to render in the notebook, thus degrading performance?\n",
    "\n",
    "Performance on 3D graphs is poor. Rotating a simple 3D surface outputs at something close to 1-2 FPS:"
   ]
  },
  {
   "cell_type": "code",
   "execution_count": null,
   "metadata": {},
   "outputs": [],
   "source": [
    "from mpl_toolkits.mplot3d import Axes3D\n",
    "\n",
    "X = np.arange(-5, 5, 0.25)\n",
    "X, Y = np.meshgrid(X, X)\n",
    "Z = np.sin(np.sqrt(X**2 + Y**2))\n",
    "\n",
    "fig = plt.figure()\n",
    "ax = fig.add_subplot(111, projection='3d')\n",
    "surf = ax.plot_surface(X, Y, Z, linewidth=0, antialiased=True, cmap='viridis')\n",
    "fig.colorbar(surf, shrink=0.5, aspect=5)\n",
    "fig.show()"
   ]
  },
  {
   "cell_type": "markdown",
   "metadata": {},
   "source": [
    "### Documentation\n",
    "The documentation is very extensive, well written, with a complete API reference and examples galore."
   ]
  },
  {
   "cell_type": "markdown",
   "metadata": {},
   "source": [
    "### Community\n",
    "The user base of `matplotlib` is unrivaled, and the variety of examples found around the web is the richest out there. T"
   ]
  },
  {
   "cell_type": "markdown",
   "metadata": {},
   "source": [
    "### Risks and project sustainability\n",
    "\n",
    "![mpl pulse](images/pulse_matplotlib.png)\n",
    "\n",
    "The project has been around for many years, and will still be there for many to come. No real risks are associated with such a well established library. "
   ]
  },
  {
   "cell_type": "markdown",
   "metadata": {},
   "source": [
    "### Standard use cases\n",
    "See [here](examples/matplotlib.ipynb) for a notebook demonstrating how some standard use cases are achieved using `matplotlib`."
   ]
  },
  {
   "cell_type": "markdown",
   "metadata": {},
   "source": [
    "### Summary\n",
    "\n",
    "<span style=\"color:green\">**Pros:**</span>\n",
    "\n",
    "- Very mature project, used by the majority of scientific community for publication-grade figures\n",
    "- Widespread availability on existing systems\n",
    "- Easily installable\n",
    "- Well-maintained with many developers\n",
    "- Good 1D-2D performance (`imshow` is very fast for images with regularly-sized pixels)\n",
    "\n",
    "<span style=\"color:red\">**Cons:**</span>\n",
    "\n",
    "- Poor 3D performance\n",
    "- Interface to interactivity could be improved/made simpler\n",
    "\n",
    "---"
   ]
  },
  {
   "cell_type": "markdown",
   "metadata": {},
   "source": [
    "<a id='plotly'></a>\n",
    "## Plotly (https://plot.ly/python/)\n",
    "\n",
    "`plotly` is a very popular solution for creating highly interactive plots to be used in a web-browser. It is Javascript based, making use of the D3.js library, but also has a complete Python API, making it well suited for Jupyter notebook use.\n",
    "\n",
    "It boasts a high performance, especially for scatter plots, by making use of the WebGL technology (see [here](https://plot.ly/python/webgl-vs-svg/)).\n",
    "\n",
    "One very nice feature of `plotly` is that its output is standalone html code that can be embedded in any web-site.\n",
    "\n",
    "The same example as for `matplotlib` is shown below"
   ]
  },
  {
   "cell_type": "code",
   "execution_count": null,
   "metadata": {},
   "outputs": [],
   "source": [
    "import plotly.graph_objs as go\n",
    "from plotly.subplots import make_subplots"
   ]
  },
  {
   "cell_type": "code",
   "execution_count": null,
   "metadata": {},
   "outputs": [],
   "source": [
    "fig = make_subplots(rows=2, cols=2)\n",
    "\n",
    "fig.add_trace(go.Scatter(x=x, y=z[:, 0]), row=1, col=1)\n",
    "fig.add_trace(go.Histogram(x=z[:, 0], xbins={\"size\": 0.05}), row=1, col=2)\n",
    "fig.add_trace(go.Heatmap(z=z, showscale=False), row=2, col=1)\n",
    "fig.add_trace(go.Scatter(x=z[:, 0], y=z[:, 1], mode='markers',\n",
    "    marker={\"color\": z[:, 2]}), row=2, col=2)\n",
    "\n",
    "fig.show()"
   ]
  },
  {
   "cell_type": "markdown",
   "metadata": {},
   "source": [
    "### Dash\n",
    "\n",
    "The makers of `plotly` also offer a platform called `Dash` which aims to make it very easy to create web apps with interactive menus, buttons, sliders and plots. Examples can be found here: https://dash-gallery.plotly.host/Portal/, and some are indeed very impressive.\n",
    "\n",
    "It is also now possible to embed `Dash` apps as a separate window in the JupyterLab environment, to allow both clickable and scriptable interaction with an app: https://github.com/plotly/jupyterlab-dash\n",
    "\n",
    "This could be a very nice alternative to developing GUIs for something like interfaces in `Mantid`."
   ]
  },
  {
   "cell_type": "markdown",
   "metadata": {},
   "source": [
    "### Interactivity\n",
    "\n",
    "Interactivity is varied and extremely well supported in `plotly`. It is one of the strengths of the library, and it feels like much work has gone into making this their selling point.\n",
    "\n",
    "Zooming and panning is smooth, and connecting graphs to Jupyter `ipywidgets` works well. It is even possible to go further with selection events, whereby selecting points in a plot can affect what data is displayed in another plot or a table. See [here](https://plot.ly/python/selection-events/) for an exmaple."
   ]
  },
  {
   "cell_type": "markdown",
   "metadata": {},
   "source": [
    "### Performance\n",
    "\n",
    "`plotly`'s performance is very good for line/scatter plots, even for very large datasets (1M points), via the `Scattergl` method.\n",
    "\n",
    "Performance for 3D visualization seems reasonable, and far better than `matplotlib`."
   ]
  },
  {
   "cell_type": "markdown",
   "metadata": {},
   "source": [
    "### Documentation\n",
    "\n",
    "Documentation is very rich, well written, with many examples. A full API reference is also available. A minor downside is that it is based around a search box which can sometimes feel quite slow."
   ]
  },
  {
   "cell_type": "markdown",
   "metadata": {},
   "source": [
    "### Community\n",
    "A large community uses `plotly`, which means that many examples are available online to  get ideas from.\n",
    "\n",
    "Developers are responsive to posts on the forum, and seem very happy to help."
   ]
  },
  {
   "cell_type": "markdown",
   "metadata": {},
   "source": [
    "### Risks and project sustainability\n",
    "\n",
    "![plotly pulse](images/pulse_plotly.png)\n",
    "\n",
    "From the `Github` pulse, it appears that the project has had switching lead developers, who have not had much overlap. Not much can be read from this, apart from the fact that it appears the project does get picked up if one of the main developers moves on to new things.\n",
    "\n",
    "`plotly` has now been around for 5+ years, and the overall impression is that it is here to last. Out of the many available javascipt plotting libraries out there, it has established itself as one of the front-runners."
   ]
  },
  {
   "cell_type": "markdown",
   "metadata": {},
   "source": [
    "### Standard use cases\n",
    "See [here](examples/plotly.ipynb) for a notebook with the `plotly` standard use cases."
   ]
  },
  {
   "cell_type": "markdown",
   "metadata": {},
   "source": [
    "### Summary\n",
    "\n",
    "<span style=\"color:green\">**Pros:**</span>\n",
    "\n",
    "- Easy to install\n",
    "- Interactivity &starf;&starf;&starf;&starf;&starf;\n",
    "- Large well-maintained and well-documented project\n",
    "- Very complete in terms of features\n",
    "- 3D capable\n",
    "- The `Dash` framework for building apps is very interesting\n",
    "\n",
    "<span style=\"color:red\">**Cons:**</span>\n",
    "\n",
    "- Not easily useable outside of a web environment. It is possible to use a custom renderer and open a `plotly`\n",
    "  graph inside a Qt window (see [here](examples/plotly.ipynb#plotly_in_qt))\n",
    "\n",
    "---"
   ]
  },
  {
   "cell_type": "markdown",
   "metadata": {},
   "source": [
    "<a id='pyqtgraph'></a>\n",
    "## PyQtGraph (http://www.pyqtgraph.org/)\n",
    "\n",
    "`pyqtgraph` is a very impressive tool based on OpenGL that provides 1D-3D data visualization with astonishing performance. Zooming in on a line made up of millions of points is flawless, and the same goes for a 5000x5000 image.\n",
    "\n",
    "The OpenGL shaders can be used to create beautiful effects in 3D environments.\n",
    "\n",
    "The idea to use OpenGL for 1, 2, 3D plots is quite brilliant, and in principle offers a completely seamless experience across all dimensions, thus solving a common problem where plotting libraries are often either good at 1-2D plotting, or 3D, but not all at the same time (cf `matplotlib` for example).\n",
    "\n",
    "The installation is simple via `pip` or `conda` and comes with a large set of useful examples.\n",
    "\n",
    "The rendered graphs do feel a little more 'raw' than other projects where more resources have been spent on aesthetics. That said, it is possible to make `pyqtgraph` more eye-friendly by tweaking background and foreground colors and styles. This however all needs to be done manually. "
   ]
  },
  {
   "cell_type": "markdown",
   "metadata": {},
   "source": [
    "### Interactivity\n",
    "\n",
    "Interaction with graphs via mouse events is extremely smooth, even for large datasets. It is also possible to define regions-of-interest which can be moved/reshaped with the mouse.\n",
    "\n",
    "As the name suggests, `pyqtgraph` integrates very well in `Qt` windows, and it is relatively simple to connect graphs to sliders, buttons to enhance interactivity."
   ]
  },
  {
   "cell_type": "markdown",
   "metadata": {},
   "source": [
    "### Performance\n",
    "\n",
    "Performance is really the selling point of `pyqtgraph`. By making use of OpenGL, it can handle huge datasets and still make zooming fast and smooth. This is the fastest animal in the forest.\n",
    "\n",
    "The performance is often illustrated in examples of real-time signal processing, and this should be kept in mind when designing visualization of streaming data."
   ]
  },
  {
   "cell_type": "markdown",
   "metadata": {},
   "source": [
    "### Documentation\n",
    "\n",
    "The `pyqtgraph` [documentation](http://www.pyqtgraph.org/documentation/) contains plenty of material including installation instructions, examples, as well as a complete API reference.\n",
    "\n",
    "It is however not clear how up-to-date this documentation is. The copyright note in the page footer gives 2011 as the last update, which is slightly worrying. We have not been able to determine if the footer had not been updated since 2011, or if this applied to the entire documentation."
   ]
  },
  {
   "cell_type": "markdown",
   "metadata": {},
   "source": [
    "### Community\n",
    "\n",
    "There appears to be quite a large number of `pyqtgraph` users, with many examples floating around the web.\n",
    "Most examples are from private users building a plotting tool for a specific one-time application, usually centered around real-time signal processing. There is no centralized space for collecting examples, as is the case with `matplotlib` or `plotly`.  "
   ]
  },
  {
   "cell_type": "markdown",
   "metadata": {},
   "source": [
    "### Risks and project sustainability\n",
    "\n",
    "![pyqtgraph pulse](images/pulse_pyqtgraph.png)\n",
    "\n",
    "The project however does have some major drawbacks.\n",
    "\n",
    "#### Lone developer\n",
    "\n",
    "`pyqtgraph` is only being developed by one person, Luke Campagnola. There are 200+ issues open on github and 100 PRs, including some that are several years old. While it seems many different people are creating PRs, all of them seem to fail the CI tests. However, they are still getting merged regardless. There is a real doubt as to whether this project will still be alive in 5 years.\n",
    "\n",
    "It is worth mentioning here that the main developer has since joined forces with other OpenGL-based visualization packages to create [`vispy`](http://vispy.org/index.html). See more on `vispy` below.\n",
    "\n",
    "#### Use in Jupyter has limitations\n",
    "\n",
    "When using `pyqtgraph` in a Jupyter notebook, one cannot embed the plots in the notebook, a separate `Qt` window has to be spawned. This causes problems if running on a remote machine, as well as making it difficult to remember which plot corresponded to which cell in a lengthy notebook.\n",
    "\n",
    "In addition, when spawning a `Qt` window via the\n",
    "```Python\n",
    "app = QtGui.QApplication([])\n",
    "QtGui.QApplication.exec_()\n",
    "```\n",
    "method, the cell in the notebook is locked and everything below can only be executed once the plot window has been killed, making the use of Jupyter rather pointless. This can however be alleviated via the use of the magic command\n",
    "```Python\n",
    "%gui qt\n",
    "```\n",
    "\n",
    "#### 3D visualization is not fully developed\n",
    "\n",
    "While representing scatter plots, surfaces, etc... works very well in 3D, it feels like development was never fully completed. For instance, there are no annotated axes for 3D plots. Only a mesh that serves as a point of reference for the eye is available, with no tick marks nor any labels/annotations. While it may not be too difficult to add, it is not obvious development would be swift, judging by the number of open PRs."
   ]
  },
  {
   "cell_type": "markdown",
   "metadata": {},
   "source": [
    "### Standard use cases\n",
    "See [here](examples/pyqtgraph.ipynb) for a notebook with the `pyqtgraph` standard use cases."
   ]
  },
  {
   "cell_type": "markdown",
   "metadata": {},
   "source": [
    "### Summary\n",
    "\n",
    "<span style=\"color:green\">**Pros:**</span>\n",
    "\n",
    "- Lightning fast performance\n",
    "- Very complete in terms of features, including clickable/dragable points/lines\n",
    "- Good integration with `Qt`\n",
    "- Handles 1 to 3 dimensions under a single interface\n",
    "\n",
    "<span style=\"color:red\">**Cons:**</span>\n",
    "\n",
    "- Only one developer\n",
    "- Cannot embed plots in Jupyter notebook\n",
    "- 3D visualization is not fully developed (missing axes)\n",
    "- No official support from institution or company\n",
    "\n",
    "---"
   ]
  },
  {
   "cell_type": "markdown",
   "metadata": {},
   "source": [
    "<a id='bqplot'></a>\n",
    "## Bqplot (https://github.com/bloomberg/bqplot)\n",
    "\n",
    "`bqplot` is a relatively new library (started 2015), that is supported by Quantstack and developed by the makers of Jupyter, `ipywidgets`, `ipyvolume`, and `glueviz`. It is targetted at Jupyter users. It is built on `ipywidgets`, and every item in the graphs are a widget, making plots highly configurable with many interaction possibilities (see the author's presentation at [Scipy 2018](https://www.youtube.com/watch?v=Dmxa2Kyfzxk))."
   ]
  },
  {
   "cell_type": "code",
   "execution_count": null,
   "metadata": {
    "scrolled": false
   },
   "outputs": [],
   "source": [
    "from bqplot import pyplot as plt\n",
    "\n",
    "fig1 = plt.figure()\n",
    "line = plt.plot(x, z[:, 0])\n",
    "plt.show()\n",
    "fig2 = plt.figure()\n",
    "hist = plt.hist(z[:, 0], bins=20)\n",
    "plt.show()\n",
    "fig3 = plt.figure()\n",
    "heatmap = plt.heatmap(z, x=x, y=y)\n",
    "plt.show()\n",
    "fig4 = plt.figure()\n",
    "scat = plt.scatter(z[:, 0], z[:, 1])\n",
    "plt.show()"
   ]
  },
  {
   "cell_type": "markdown",
   "metadata": {},
   "source": [
    "### Interactivity\n",
    "\n",
    "Interactivity is at the heart of `bqplot`.\n",
    "It is, for example, possible to drag individual points in a scatter plot."
   ]
  },
  {
   "cell_type": "code",
   "execution_count": null,
   "metadata": {},
   "outputs": [],
   "source": [
    "## Enabling moving of points in scatter. Try to click and drag any of the points in the scatter and \n",
    "## notice the line representing the mean of the data update\n",
    "fig = plt.figure()\n",
    "scat = plt.scatter(z[:, 0], z[:, 1], colors=['orange'], enable_move=True)\n",
    "lin = plt.plot([], [], line_style='dotted', colors=['orange'])\n",
    "\n",
    "def update_line(change=None):\n",
    "    with lin.hold_sync():\n",
    "        lin.x = [np.min(scat.x), np.max(scat.x)]\n",
    "        lin.y = [np.mean(scat.y), np.mean(scat.y)]\n",
    "\n",
    "update_line()\n",
    "\n",
    "# update line on change of x or y of scatter\n",
    "scat.observe(update_line, names=['x'])\n",
    "scat.observe(update_line, names=['y'])\n",
    "\n",
    "fig"
   ]
  },
  {
   "cell_type": "markdown",
   "metadata": {},
   "source": [
    "One can also create linked plots where data selections in one graph can affect the data displayed in another plot. This in fact can be made to interact with any `ipywidgets` based entity, as is illustrated in [this](https://ipyvolume.readthedocs.io/en/latest/bqplot.html#bqplot-scatter-plot) example with `ipyvolume`."
   ]
  },
  {
   "cell_type": "markdown",
   "metadata": {},
   "source": [
    "### Performance\n",
    "\n",
    "Performance is the achilles heel of `bqplot`. The time for rendering graphs is similar to other projects, but interaction feels very slow. Just having 5 histograms on the same plot makes zooming in and out painfully slow: "
   ]
  },
  {
   "cell_type": "code",
   "execution_count": null,
   "metadata": {},
   "outputs": [],
   "source": [
    "N = 50\n",
    "M = 5\n",
    "x = np.arange(N)\n",
    "y = np.random.rand(N, M)\n",
    "fig = plt.figure()\n",
    "for i in range(M):\n",
    "    plt.bar(x, y[:, i], padding=0.0, color=[i]*N)\n",
    "plt.show()"
   ]
  },
  {
   "cell_type": "markdown",
   "metadata": {},
   "source": [
    "It is possible this comes from the fact that every item on the plot (i.e. each bar in the histogram) is a widget of its own, with adjustable properties (one can, for instance, set opacities for individual bars), which would make vectorization of operations difficult. This is pure speculation, and I have no evidence to back this.\n",
    "\n",
    "There are many issues on the `github` repository on the topic of performance, and this is obviously an area of very active development. In particular it appears that they are trying to make use of WebGL more and more (see [here](https://github.com/glue-viz/bqplot-image-gl)), which would clearly help. Maybe it is simply a matter of time before performance is on par with other similar projects? It is worth coming back to `bqplot` in a year's time to see how this has developed."
   ]
  },
  {
   "cell_type": "markdown",
   "metadata": {},
   "source": [
    "### Documentation\n",
    "\n",
    "Documentation is rather poor on the [readthedocs](https://bqplot.readthedocs.io/en/latest/index.html) website. It basically contains the auto-generated API reference and not much more.\n",
    "\n",
    "To get to grips with how to use `bqplot`, one has to use the (actually very useful) Jupyter notebooks that are bundled up into a [binder](https://mybinder.org/v2/gh/bloomberg/bqplot/0.11.x?filepath=examples/Index.ipynb) image."
   ]
  },
  {
   "cell_type": "markdown",
   "metadata": {},
   "source": [
    "### Community\n",
    "\n",
    "The `bqplot` community is naturally smaller than that of other projects, due to its relatively young age. Finding examples for `bqplot`, beyond the notebooks in the provided Binder image, can be somewhat difficult. Their [gitter](https://gitter.im/bloomberg/bqplot) space is an additional place to get help, but searching through an un-archived gitter history is not trivial."
   ]
  },
  {
   "cell_type": "markdown",
   "metadata": {},
   "source": [
    "### Risks and project sustainability\n",
    "![bqplot pulse](images/pulse_bqplot.png)\n",
    "\n",
    "The team of `bqplot` developers comprise, among others, Sylvain Corlay (Quantstack founder) & Maarten Breddels (ipyvolume creator), and they are part of several collaborations that make use of `bqplot`, such as [`glue-jupyter`](https://github.com/glue-viz/glue-jupyter), a Jupyter version of the `glueviz` project by Thomas Robitaille (who is also a core `astropy` contributor).\n",
    "\n",
    "Development appears to have been steady over the past 5 years, but it also seems to happens in several different places. Some changes are for instance first implemented in `glue-viz/bqplot-image-gl`, before they are integrated in the main repository. This could be both a good and bad thing. On one hand the developement is driven by another application, with frequent requests for new features, and this ensures continous development. On the other hand, there is always the risk that development gets scattered in different directions, no longer having a common goal. This can very well lead to parts of the project becoming disconnected, developing at different speeds, and utlimately break apart. There is no evidence of this yet, but it has to be kept in mind when selecting a framework that is meant to last for a significant part of the lifetime of ESS."
   ]
  },
  {
   "cell_type": "markdown",
   "metadata": {},
   "source": [
    "#### Missing features\n",
    "\n",
    "`bqplot` is currently missing several relatively basic features that other libraries offer. For instance, it is not possible to have error bars on 1D line plots or histograms. One can achieve something that resembles error bars using the `Candles` (OHLC) plots with a zero filled area, but a horizontal bar remains, thus tricking the viewer into thinking these are horizontal error bars.\n",
    "\n",
    "Another important missing feature is the ability to make either line or filled contour plots. [Some development](https://github.com/glue-viz/bqplot-image-gl/pull/10) is under way in this area, but again it seems like quite a basic feature which is still lacking. The contour plots themselves are not necessarily fundamental for our purposes, but it is more a testimony to the fact that the library is not very mature. The developers have focussed more on fully embracing the widget concept to create a special brand of interactivity, instead of supporting all the possible way of visualizing data, which is a perfectly valid approach. I would simply recommend coming back to `bqplot` in a year's time to see how they have progressed."
   ]
  },
  {
   "cell_type": "markdown",
   "metadata": {},
   "source": [
    "### Summary\n",
    "\n",
    "<span style=\"color:green\">**Pros:**</span>\n",
    "\n",
    "- Team of developers that are well-known in the python visualization and scientific computing\n",
    "- Offers uncommon interactivity possibilities, including clickable/dragable points/lines\n",
    "- Good integration with Jupyter\n",
    "\n",
    "<span style=\"color:red\">**Cons:**</span>\n",
    "\n",
    "- Project still feels young and in development, with some relatively basic missing features\n",
    "- Poor performance on pan/zoom, for even simple plots\n",
    "- No 3D"
   ]
  },
  {
   "cell_type": "markdown",
   "metadata": {},
   "source": [
    "<a id='bokeh'></a>\n",
    "## Bokeh\n",
    "\n",
    "`bokeh` is another very popular plotting library designed to work inside the browser. It is fast, has many interaction tools, and a polished aesthetic. It is in many ways similar to `plotly`, and can do most of the same things. "
   ]
  },
  {
   "cell_type": "markdown",
   "metadata": {},
   "source": [
    "### Interactivity"
   ]
  },
  {
   "cell_type": "markdown",
   "metadata": {},
   "source": [
    "### Performance\n"
   ]
  },
  {
   "cell_type": "markdown",
   "metadata": {},
   "source": [
    "### Documentation"
   ]
  },
  {
   "cell_type": "markdown",
   "metadata": {},
   "source": [
    "### Community"
   ]
  },
  {
   "cell_type": "markdown",
   "metadata": {},
   "source": [
    "### Risks and project sustainability"
   ]
  },
  {
   "cell_type": "markdown",
   "metadata": {},
   "source": [
    "### Summary"
   ]
  },
  {
   "cell_type": "code",
   "execution_count": null,
   "metadata": {},
   "outputs": [],
   "source": []
  },
  {
   "cell_type": "code",
   "execution_count": null,
   "metadata": {},
   "outputs": [],
   "source": []
  },
  {
   "cell_type": "code",
   "execution_count": null,
   "metadata": {},
   "outputs": [],
   "source": []
  },
  {
   "cell_type": "code",
   "execution_count": null,
   "metadata": {},
   "outputs": [],
   "source": []
  },
  {
   "cell_type": "markdown",
   "metadata": {},
   "source": [
    "<a id='holoviz'></a>\n",
    "## Holoviz\n",
    "\n",
    "The `Panels` is the equivalent to `plotly`'s `Dash`. "
   ]
  },
  {
   "cell_type": "markdown",
   "metadata": {},
   "source": [
    "### Interactivity"
   ]
  },
  {
   "cell_type": "markdown",
   "metadata": {},
   "source": [
    "### Performance\n"
   ]
  },
  {
   "cell_type": "markdown",
   "metadata": {},
   "source": [
    "### Documentation"
   ]
  },
  {
   "cell_type": "markdown",
   "metadata": {},
   "source": [
    "### Community"
   ]
  },
  {
   "cell_type": "markdown",
   "metadata": {},
   "source": [
    "### Risks and project sustainability"
   ]
  },
  {
   "cell_type": "markdown",
   "metadata": {},
   "source": [
    "### Summary"
   ]
  },
  {
   "cell_type": "code",
   "execution_count": null,
   "metadata": {},
   "outputs": [],
   "source": []
  },
  {
   "cell_type": "markdown",
   "metadata": {},
   "source": [
    "<a id='ipyvolume'></a>\n",
    "## Ipyvolume (https://ipyvolume.readthedocs.io/en/latest/)\n",
    "\n",
    "`ipyvolume` does exactly what it says on the tin: \"a Python library to visualize 3d volumes and glyphs (e.g. 3d scatter plots), in the Jupyter notebook, with minimal configuration and effort.\"\n",
    "\n",
    "It is probably the fastest way to get a useful 3D interactive plots in a Jupyter notebook. It is based on `ipywidgets`, and uses WebGL via the `pythreejs` library to render in the browser. `pythreejs` is a python interface to the very powerful [`three.js`](https://threejs.org/examples/#webgl_animation_cloth) library for 3D graphics in modern browsers.\n",
    "\n",
    "As it is based on javascript, plots can be saved as standalone HTML code which can be embedded in any web page.\n",
    "\n",
    "Many things can be done with `ipyvolume`, as illustrated by one of the author's presentations at [Scipy 2018](https://www.youtube.com/watch?v=hOKa8klJPyo), and by a couple of examples below."
   ]
  },
  {
   "cell_type": "code",
   "execution_count": null,
   "metadata": {},
   "outputs": [],
   "source": [
    "# A volume rendering plot\n",
    "import ipyvolume as ipv\n",
    "N = 128\n",
    "x = np.linspace(0.0, 2.0, N)\n",
    "x, y, z = np.meshgrid(x, x, x)\n",
    "V = np.sin(x**2 + y**2 + z**2)**2\n",
    "ipv.quickvolshow(V)"
   ]
  },
  {
   "cell_type": "code",
   "execution_count": null,
   "metadata": {},
   "outputs": [],
   "source": [
    "# A scatter plot\n",
    "x, y, z = np.random.random((3, 5000))\n",
    "ipv.quickscatter(x, y, z, size=1, marker=\"sphere\")"
   ]
  },
  {
   "cell_type": "markdown",
   "metadata": {},
   "source": [
    "### Interactivity\n",
    "\n",
    "Widget interaction is at the heart of `ipyvolume`, where sliders can be used to interact with the graph elements. Markers can be resized, colors can be changed.\n",
    "\n",
    "It is also possible to link `ipyvolume` to other libraries such as `bqplot` or `bokeh`, whereby a selection in a 2D scatter plot can be highlighted in a 3D `ipyvolume` spatial analog (the [examples](https://ipyvolume.readthedocs.io/en/latest/examples.html) in the documentation show how to achieve this).\n",
    "This means `ipyvolume` is a natural candidate for complementing a 2D graphics library with a 3D viewer."
   ]
  },
  {
   "cell_type": "markdown",
   "metadata": {},
   "source": [
    "### Performance\n",
    "\n",
    "Performance is impressive. While not at the level of OpenGL solutions like `pyqtgraph`, it surpasses `plotly` and `matplotlib` in terms of smoothness of interaction. It is a 3D tool that focusses on doing 3D well, instead of trying to do everything in a single package.\n",
    "\n",
    "Interaction with `ipywidgets` is fast, much better than other 3D projects like `pyvista`."
   ]
  },
  {
   "cell_type": "markdown",
   "metadata": {},
   "source": [
    "### Documentation\n",
    "\n",
    "Documentation pages are relatively complete. The examples found there are useful, but few in numbers. The API seems out-dated in some cases. For instance, certain newer input parameters to some functions are missing from the API. The footer states 2017 as the last update, which could explain the discrepancies."
   ]
  },
  {
   "cell_type": "markdown",
   "metadata": {},
   "source": [
    "### Community\n",
    "\n",
    "The community around `ipyvolume` is active in [gitter](https://gitter.im/maartenbreddels/ipyvolume)."
   ]
  },
  {
   "cell_type": "markdown",
   "metadata": {},
   "source": [
    "### Risks and project sustainability\n",
    "\n",
    "![ipyvolume pulse](images/pulse_ipyvolume.png)\n",
    "\n",
    "The project is only 2-3 years old, but development has slowed down a lot over the past year or so. The main developer Maarten Breddels is collaborating on many other projects (`bqplot`, `glueviz`, ...) and `ipyvolume` has been somewhat left behind. This is potentially quite a large risk, as so far it seems that the project will not be picked up if the lead developer leaves."
   ]
  },
  {
   "cell_type": "markdown",
   "metadata": {},
   "source": [
    "### Summary\n",
    "\n",
    "<span style=\"color:green\">**Pros:**</span>\n",
    "\n",
    "- Great 3D visualization in the Jupyter notebook\n",
    "- Very good interactivity with widgets and other 2D libraries\n",
    "- Can save scenes as standalone HTML files\n",
    "- Interface allows very easy creation of 3D scenes in just a few lines\n",
    "- Good performance via three.js and WebGL\n",
    "\n",
    "<span style=\"color:red\">**Cons:**</span>\n",
    "\n",
    "- Project still feels young and in development\n",
    "- Lone developer, and project development has been slow for 1+ year.\n",
    "- Can only plot cubic volumes, aspect ratios are lost by default (hacks can be done to fix this)\n",
    " "
   ]
  },
  {
   "cell_type": "markdown",
   "metadata": {},
   "source": [
    "## Other projects\n",
    "\n",
    "Here we list other projects we have taken a glancing look at but have not investigated in detail. Further exploration of these tools would be desirable to ensure we have not overlooked a potentially crucial tool.\n",
    "\n",
    "### Vispy (http://vispy.org/)\n",
    "\n",
    "`vispy` was born out of [`galry`](https://github.com/rossant/galry), [`glumpy`](https://glumpy.github.io/), [`visvis`](https://github.com/almarklein/visvis), and [`pyqtgraph`](http://www.pyqtgraph.org/), with the promise of being an extremely high performance graphing library that offloads computations and renderings to the GPU using OpenGL.\n",
    "\n",
    "It certainly looks promising, from one of their early presentations at [Scipy 2015](https://www.youtube.com/watch?v=_3YoaeoiIFI), but the overall impression when trying to use it is mixed.\n",
    "\n",
    "The documentation is not very user-friendly, and the gallery of examples is very limited (has been saying \"More to come soon!\" for as long as I can remember). The examples themselves seem to involve quite complicated code that relates to shaders packed in a string, followed by a lengthy canvas class construction, just to generate [a simple scatter plot](https://github.com/vispy/vispy/blob/master/examples/demo/gloo/cloud.py). It feels like most of this low-level code should be hidden from the user, or at least as a user I would certainly appreaciate if that was the case.\n",
    "\n",
    "When digging a little deeper, one can actually find examples that look closer to what one would expect from a high-level plotting package, such as a [scatter plot](https://github.com/vispy/vispy/blob/master/examples/basics/plotting/scatter_histogram.py) with histograms on the side axes. These examples **do not** however run in a `IPython` console. One has to run them in a separate python script from the terminal.\n",
    "\n",
    "Just like `pyqtgraph`, the plots are by default rendered in a `Qt` window. The website does give instructions on how to render them in a Jupyter notebook (by installing an extension), but when trying the scatter histogram examples above I was not able to get the scatter plot to show, only the histograms were visible.\n",
    "\n",
    "Overall, performance is good but it somehow feels worse that `pyqtgraph`. Zooming in a out on plots feels sluggish, both in the `Qt` window and especially in the Jupyter notebook (and this is on a HP workstation with an Nvidia GPU).\n",
    "\n",
    "### Altair (https://altair-viz.github.io/)\n",
    "\n",
    "`Altair` is also capable of linking data in different plot, reacting through selection of points. As shown in [this](https://altair-viz.github.io/gallery/scatter_with_histogram.html) example, one can select a range in a histogram and only the corresponding points inside the selected bins will appear in the scatter plot.\n",
    "\n",
    "This is an increasingly popular data visualization technique embraced for instance by the `glueviz` project and many others.\n",
    "\n",
    "One of the main disadvantages of `Altair` is that it requires the data to be in a `pandas` DataFrame, thus either forcing us to use `pandas` as our data container, or requiring a (potentially costly?) conversion step between our data container and `pandas` for the plotting.\n",
    "\n",
    "### Pyvista (https://docs.pyvista.org/)\n",
    "\n",
    "`pyvista`, formally known as `vtki`, is a python interface to the VTK library that greatly simplifies the creation of highly-performant 3D visualizations. It is a 3D-specific package, and renders in a separate `Qt` window. Integration in Jupyter notebooks seems possible, but not natively supported. \n",
    "\n",
    "### Itkwidgets (https://pypi.org/project/itkwidgets/)\n",
    "\n",
    "`itkwidgets` is a small project based on the Insight Toolkit (ITK, https://itk.org/), \"an open-source, cross-platform system that provides developers with an extensive suite of software tools for image analysis\". `itkwidgets` provides a 3D viewer for the Jupyter notebook, with volume rendering and 3-slice renderings.\n",
    "\n",
    "It uses [`VTK.js`](https://kitware.github.io/vtk-js/index.html), and we found via an [example](https://hub.gke.mybinder.org/user/insightsoftware-tium-itkwidgets-84y4bguw/notebooks/examples/3DImage.ipynb) of a brain structure that `itkwidgets` is one of the best volume renderers out there. \n",
    "\n",
    "`itkwidgets` does depend on ITK which is a rather large dependency (~140 MB), which is a downside, unless other parts of ITK can also be used for our purposes.\n",
    "\n",
    "We also note that the `pyvista` developers are [planning](https://github.com/pyvista/pyvista-support/issues/12#issuecomment-513485873) to use `itkwidgets` to render inside Jupyter notebooks. "
   ]
  },
  {
   "cell_type": "markdown",
   "metadata": {},
   "source": [
    "## Non-Python Javascript-based solutions\n",
    "\n",
    "ParaViewWeb and many many others\n"
   ]
  },
  {
   "cell_type": "markdown",
   "metadata": {},
   "source": [
    "## Conclusions"
   ]
  },
  {
   "cell_type": "code",
   "execution_count": null,
   "metadata": {},
   "outputs": [],
   "source": []
  }
 ],
 "metadata": {
  "kernelspec": {
   "display_name": "Python 3",
   "language": "python",
   "name": "python3"
  },
  "language_info": {
   "codemirror_mode": {
    "name": "ipython",
    "version": 3
   },
   "file_extension": ".py",
   "mimetype": "text/x-python",
   "name": "python",
   "nbconvert_exporter": "python",
   "pygments_lexer": "ipython3",
   "version": "3.7.3"
  }
 },
 "nbformat": 4,
 "nbformat_minor": 2
}
