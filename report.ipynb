{
 "cells": [
  {
   "cell_type": "markdown",
   "metadata": {},
   "source": [
    "# Investigation of Python data visualization tools\n",
    "\n",
    "## Introduction\n",
    "\n",
    "See the very useful 3-part post on the [Anaconda website](https://www.anaconda.com/python-data-visualization-2018-why-so-many-libraries/)\n",
    "\n",
    "![python-vis-landscape](https://www.anaconda.com/wp-content/uploads/2019/01/PythonVisLandscape.jpg)\n",
    "\n",
    "An almost complete list of packages can also be found [here](https://wiki.python.org/moin/NumericAndScientific/Plotting)"
   ]
  },
  {
   "cell_type": "markdown",
   "metadata": {},
   "source": [
    "## Matplotlib (https://matplotlib.org/3.1.1/index.html)\n",
    "\n",
    "`matplotlib` is by far the most popular and widely used package in the scientific data visualization community. It is an old (started in 2003) and very mature project, and yet still sees very active development.\n",
    "It is the go-to library for creating publishable vector graphics pdf figures in articles, and specialises in 2D plots.\n",
    "\n",
    "It is either already installed on most systems, or very easy to install on all platforms. Its strength is on high-quality static figures, and is behind other projects on the interactivity side of things.\n",
    "\n",
    "It has some 3D capabilities through the `Axes3D`.\n",
    "\n",
    "To see what `matplotlib` can do, a good place to go is [its sample plots page](https://matplotlib.org/tutorials/introductory/sample_plots.html).\n",
    "\n",
    "A small example is shown below, to illustrate both the syntax and the output generated."
   ]
  },
  {
   "cell_type": "code",
   "execution_count": null,
   "metadata": {},
   "outputs": [],
   "source": [
    "import numpy as np\n",
    "import matplotlib.pyplot as plt"
   ]
  },
  {
   "cell_type": "code",
   "execution_count": null,
   "metadata": {},
   "outputs": [],
   "source": [
    "%matplotlib notebook"
   ]
  },
  {
   "cell_type": "code",
   "execution_count": null,
   "metadata": {},
   "outputs": [],
   "source": [
    "N = 50\n",
    "x = np.arange(N)\n",
    "y = np.arange(N)\n",
    "z = np.random.rand(N, N)\n",
    "\n",
    "fig, ax = plt.subplots(2, 2)\n",
    "ax[0][0].plot(x, z[:, 0])\n",
    "ax[0][0].set_title(\"1D line plot\")\n",
    "ax[0][1].hist(z[:, 0], bins=20)\n",
    "ax[0][1].set_title(\"1D histogram\")\n",
    "ax[1][0].imshow(z)\n",
    "ax[1][0].set_title(\"2D image\")\n",
    "ax[1][1].scatter(z[:, 0], z[:, 1], c=z[:, 2])\n",
    "ax[1][1].set_title(\"Scatter plot\")\n",
    "fig.show()"
   ]
  },
  {
   "cell_type": "markdown",
   "metadata": {},
   "source": [
    "### Interface\n",
    "\n",
    "When talking about `matplotlib`, a common complaint that arises is that the API is a little difficult to get around, especially for a non-experienced user/programmer. This is somewhat true, but in some sense a little inevitable in a highly customizable tool. It is however relatively straightforward to hide the interface from the user by creating pre-made wrapper functions that will cover 90% of the cases the users are after.\n",
    "\n",
    "Examples of this are very common, for example the `pandas` library uses `matplotlib` for creating plots from the contents of its data frames, via a simple `.plot` method."
   ]
  },
  {
   "cell_type": "markdown",
   "metadata": {},
   "source": [
    "### Interactivity\n",
    "\n",
    "Another common misconception is that interactivity is virtually not supported in `matplotlib`. In fact, the library allows multiple interactivity options with mouse events (scrolling, clicking), as well as via its own set of `widgets`. These include sliders, radio buttons, check boxes, etc... and are a nice alternative to `ipywidgets`, guaranteed to work out-of-the-box with matplotlib figures.\n",
    "\n",
    "See a [diagram](https://matplotlib.org/3.1.0/_images/inheritance-9d71a95f6d3ec40d1246549117ad7959f7b88c66.png) listing all the available widgets.\n",
    "\n",
    "Interactivity is available both in the default Qt render window, and in the Jupyter notebook. Note that for the latter, a magic command `%matplotlib notebook` needs to be added **in a separate cell** at the start of the notebook, otherwise only static images are produced. Hiding this cell from the notebook inside a library import (to save the user from having to enter it in every new notebook) is apparently not yet possible. "
   ]
  },
  {
   "cell_type": "markdown",
   "metadata": {},
   "source": [
    "[A few noteable examples of interactive plots](examples/matplotlib.ipynb#interactive_examples)"
   ]
  },
  {
   "cell_type": "markdown",
   "metadata": {},
   "source": [
    "### Performance\n",
    "\n",
    "`matplotlib` is very fast, especially for generating images with regularly-sized pixels via its `imshow` function which is much faster than other web-based solutions listed in this report.\n",
    "\n",
    "Saving figures to vector graphics (pdf) can however sometimes be quite slow.\n",
    "\n",
    "Interactivity with plots shows mixed performance. Zooming onto lines or images is fast, but interaction with widgets feels sluggish. It has to be noted that interaction is smoother inside the `Qt` window compared to the Jupyter notebook. Maybe some emulation is taking place to render in the notebook, thus degrading performance?"
   ]
  },
  {
   "cell_type": "markdown",
   "metadata": {},
   "source": [
    "### Documentation\n",
    "The documentation is very extensive, well written, with a complete API reference and examples galore."
   ]
  },
  {
   "cell_type": "markdown",
   "metadata": {},
   "source": [
    "### Community\n",
    "The user base of `matplotlib` is unrivaled, and the variety of examples found around the web is the richest out there. T"
   ]
  },
  {
   "cell_type": "markdown",
   "metadata": {},
   "source": [
    "### Risks and project sustainability\n",
    "\n",
    "![mpl pulse](images/pulse_matplotlib.png)\n",
    "\n",
    "The project has been around for many years, and will still be there for many to come. No real risks are associated with such a well established library. "
   ]
  },
  {
   "cell_type": "markdown",
   "metadata": {},
   "source": [
    "### Standard use cases\n",
    "See [here](examples/matplotlib.ipynb) for a notebook demonstrating how some standard use cases are achieved using `matplotlib`."
   ]
  },
  {
   "cell_type": "markdown",
   "metadata": {},
   "source": [
    "### Summary\n",
    "\n",
    "<span style=\"color:green\">**Pros:**</span>\n",
    "\n",
    "- Widespread availability on existing systems\n",
    "- Easily installable\n",
    "- Large well-maintained project with many developers\n",
    "\n",
    "<span style=\"color:red\">**Cons:**</span>\n",
    "\n",
    "---"
   ]
  },
  {
   "cell_type": "markdown",
   "metadata": {},
   "source": [
    "## Plotly (https://plot.ly/python/)\n",
    "\n",
    "`plotly` is a very popular library for creating highly interactive plots to be used in a web-browser. It is Javascript based, but also has a complete Python API, making it well suited for Jupyter notebook use.\n",
    "\n",
    "It boasts a high performance, especially for scatter plots, by making use of the WebGL technology (see [here](https://plot.ly/python/webgl-vs-svg/)).\n",
    "\n",
    "One very nice feature of `plotly` is that its output is standalone html code that can be embedded in any web-site.\n",
    "\n",
    "The same example as for `matplotlib` is shown below"
   ]
  },
  {
   "cell_type": "code",
   "execution_count": null,
   "metadata": {},
   "outputs": [],
   "source": [
    "import plotly.graph_objs as go\n",
    "from plotly.subplots import make_subplots"
   ]
  },
  {
   "cell_type": "code",
   "execution_count": null,
   "metadata": {},
   "outputs": [],
   "source": [
    "fig = make_subplots(rows=2, cols=2)\n",
    "\n",
    "fig.add_trace(go.Scatter(x=x, y=z[:, 0]), row=1, col=1)\n",
    "fig.add_trace(go.Histogram(x=z[:, 0], xbins={\"size\": 0.05}), row=1, col=2)\n",
    "fig.add_trace(go.Heatmap(z=z, showscale=False), row=2, col=1)\n",
    "fig.add_trace(go.Scatter(x=z[:, 0], y=z[:, 1], mode='markers',\n",
    "    marker={\"color\": z[:, 2]}), row=2, col=2)\n",
    "\n",
    "fig.show()"
   ]
  },
  {
   "cell_type": "markdown",
   "metadata": {},
   "source": [
    "### Dash\n",
    "\n",
    "The makers of `plotly` also offer a platform called `Dash` which aims to make it very easy to create web apps with interactive menus, buttons, sliders and plots. Examples can be found here: https://dash-gallery.plotly.host/Portal/, and some are indeed very impressive.\n",
    "\n",
    "It is also now possible to embed `Dash` apps as a separate window in the JupyterLab environment, to allow both clickable and scriptable interaction with an app: https://github.com/plotly/jupyterlab-dash\n",
    "\n",
    "This could be a very nice alternative to developing GUIs for something like interfaces in `Mantid`."
   ]
  },
  {
   "cell_type": "markdown",
   "metadata": {},
   "source": [
    "### Interactivity\n",
    "\n",
    "Interactivity is varied and extremely well supported in `plotly`. It is one of the strengths of the library, and it feels like much work has gone into making this their selling point.\n",
    "\n",
    "Zooming and panning is smooth, and connecting graphs to Jupyter `ipywidgets` works well. It is even possible to go further with selection events, whereby selecting points in a plot can affect what data is displayed in another plot or a table. See [here](https://plot.ly/python/selection-events/) for an exmaple."
   ]
  },
  {
   "cell_type": "markdown",
   "metadata": {},
   "source": [
    "### Performance\n",
    "\n",
    "`plotly`'s performance is very good for line/scatter plots, even for very large datasets (1M points), via the `Scattergl` method.\n",
    "\n",
    "Performance for 3D visualization seems reasonable."
   ]
  },
  {
   "cell_type": "markdown",
   "metadata": {},
   "source": [
    "### Documentation"
   ]
  },
  {
   "cell_type": "markdown",
   "metadata": {},
   "source": [
    "### Community\n",
    "A large community uses `plotly`.\n",
    "Developers are responsive to posts on the forum, and seem very happy to help."
   ]
  },
  {
   "cell_type": "markdown",
   "metadata": {},
   "source": [
    "### Risks and project sustainability\n",
    "\n",
    "![plotly pulse](images/pulse_plotly.png)"
   ]
  },
  {
   "cell_type": "markdown",
   "metadata": {},
   "source": [
    "### Standard use cases\n",
    "See [here](examples/plotly.ipynb) for a notebook with the `plotly` standard use cases."
   ]
  },
  {
   "cell_type": "markdown",
   "metadata": {},
   "source": [
    "### Summary\n",
    "\n",
    "<span style=\"color:green\">**Pros:**</span>\n",
    "\n",
    "- Easy to install\n",
    "- Interactivity &starf;&starf;&starf;&starf;&starf;\n",
    "- Large well-maintained project\n",
    "- Very complete in terms of features\n",
    "- 3D capable\n",
    "\n",
    "<span style=\"color:red\">**Cons:**</span>\n",
    "\n",
    "- Not easily useable outside of a web environment. It is possible to use a custom renderer and open a `plotly`\n",
    "  graph inside a Qt window (see [here](examples/plotly.ipynb#plotly_in_qt))\n",
    "\n",
    "---"
   ]
  },
  {
   "cell_type": "markdown",
   "metadata": {},
   "source": [
    "## PyQtGraph (http://www.pyqtgraph.org/)\n",
    "\n",
    "`pyqtgraph` is a very impressive tool based on OpenGL that provides 1D-3D data visualization with astonishing performance. Zooming in on a line made up of millions of points is flawless, and the same goes for a 5000x5000 image.\n",
    "\n",
    "The OpenGL shaders can be used to create beautiful effects in 3D environments.\n",
    "\n",
    "The installation is simple via `pip` or `conda` and comes with a large set of useful examples."
   ]
  },
  {
   "cell_type": "markdown",
   "metadata": {},
   "source": [
    "### Interactivity\n",
    "\n",
    "Interaction with graphs via mouse events is extremely smooth, even for large datasets. It is also possible to define regions-of-interest which can be moved/reshaped with the mouse.\n",
    "\n",
    "As the name suggests, `pyqtgraph` integrates very well in `Qt` windows, and it is relatively simple to connect graphs to sliders, buttons to enhance interactivity."
   ]
  },
  {
   "cell_type": "markdown",
   "metadata": {},
   "source": [
    "### Performance"
   ]
  },
  {
   "cell_type": "markdown",
   "metadata": {},
   "source": [
    "### Documentation"
   ]
  },
  {
   "cell_type": "markdown",
   "metadata": {},
   "source": [
    "### Community"
   ]
  },
  {
   "cell_type": "markdown",
   "metadata": {},
   "source": [
    "### Risks and project sustainability\n",
    "\n",
    "![pyqtgraph pulse](images/pulse_pyqtgraph.png)\n",
    "\n",
    "The project however does have some major drawbacks.\n",
    "\n",
    "#### Lone developer\n",
    "\n",
    "`pyqtgraph` is only being developed by one person, Luke Campagnola, and development has been slow for the last ~2 years. There are 200+ issues open on github and 100 PRs, including some that are several years old. While it seems many different people are creating PRs, all of them seem to fail the CI tests. However, they are still getting merged regardless. There is a real doubt as to whether this project will still be alive in 5 years.\n",
    "\n",
    "#### Use in Jupyter has limitations\n",
    "\n",
    "When using `pyqtgraph` in a Jupyter notebook, one cannot embed the plots in the notebook, a separate `Qt` window has to be spawned. This causes problems if running on a remote machine, as well as making it difficult to remember which plot corresponded to which cell in a lengthy notebook.\n",
    "\n",
    "In addition, when spawning a `Qt` window via the\n",
    "```Python\n",
    "app = QtGui.QApplication([])\n",
    "QtGui.QApplication.exec_()\n",
    "```\n",
    "method, the cell in the notebook is locked and everything below can only be executed once the plot window has been killed, making the use of Jupyter rather pointless. This can however be alleviated via the use of the magic command\n",
    "```Python\n",
    "%gui qt\n",
    "```\n",
    "\n",
    "#### 3D visualization is not fully developed\n",
    "\n",
    "While representing scatter plots, surfaces, etc... works very well in 3D, it feels like development was never fully completed. For instance, there are no annotated axes for 3D plots. Only a mesh that serves as a point of reference for the eye is available, with no tick marks nor any labels/annotations. While it may not be too difficult to add, it is not obvious development would be swift, judging by the number of open PRs."
   ]
  },
  {
   "cell_type": "markdown",
   "metadata": {},
   "source": [
    "### Standard use cases\n",
    "See [here](examples/pyqtgraph.ipynb) for a notebook with the `pyqtgraph` standard use cases."
   ]
  },
  {
   "cell_type": "markdown",
   "metadata": {},
   "source": [
    "### Summary\n",
    "\n",
    "<span style=\"color:green\">**Pros:**</span>\n",
    "\n",
    "- Easy to install\n",
    "- Lightning fast performance\n",
    "- Very complete in terms of features, including clickable/dragable points/lines\n",
    "- Good integration with `Qt`\n",
    "- 3D capable\n",
    "\n",
    "<span style=\"color:red\">**Cons:**</span>\n",
    "\n",
    "- Only one developer\n",
    "- Cannot embed plots in Jupyter notebook\n",
    "- 3D visualization is not fully developed (missing axes)\n",
    "\n",
    "---"
   ]
  },
  {
   "cell_type": "markdown",
   "metadata": {},
   "source": [
    "## Bqplot\n",
    "\n",
    "`bqplot` is a relatively new library (started 2015), that is developed by the makers of Jupyter, `ipywidgets`, `ipyvolume`, and `glueviz`. It is targetted at Jupyter users. It is built on `ipywidgets`, and every item in the graphs are a widget, making plots highly configurable with many interaction possibilities."
   ]
  },
  {
   "cell_type": "code",
   "execution_count": null,
   "metadata": {
    "scrolled": false
   },
   "outputs": [],
   "source": [
    "from bqplot import pyplot as plt\n",
    "\n",
    "fig1 = plt.figure()\n",
    "line = plt.plot(x, z[:, 0])\n",
    "plt.show()\n",
    "fig2 = plt.figure()\n",
    "hist = plt.hist(z[:, 0], bins=20)\n",
    "plt.show()\n",
    "fig3 = plt.figure()\n",
    "heatmap = plt.heatmap(z, x=x, y=y)\n",
    "plt.show()\n",
    "fig4 = plt.figure()\n",
    "scat = plt.scatter(z[:, 0], z[:, 1])\n",
    "plt.show()"
   ]
  },
  {
   "cell_type": "markdown",
   "metadata": {},
   "source": [
    "### Interactivity\n",
    "\n",
    "Interactivity is at the heart of `bqplot`.\n",
    "It is, for example, possible to drag individual points in a scatter plot."
   ]
  },
  {
   "cell_type": "code",
   "execution_count": null,
   "metadata": {},
   "outputs": [],
   "source": [
    "## Enabling moving of points in scatter. Try to click and drag any of the points in the scatter and \n",
    "## notice the line representing the mean of the data update\n",
    "fig = plt.figure()\n",
    "scat = plt.scatter(z[:, 0], z[:, 1], colors=['orange'], enable_move=True)\n",
    "lin = plt.plot([], [], line_style='dotted', colors=['orange'])\n",
    "\n",
    "def update_line(change=None):\n",
    "    with lin.hold_sync():\n",
    "        lin.x = [np.min(scat.x), np.max(scat.x)]\n",
    "        lin.y = [np.mean(scat.y), np.mean(scat.y)]\n",
    "\n",
    "update_line()\n",
    "\n",
    "# update line on change of x or y of scatter\n",
    "scat.observe(update_line, names=['x'])\n",
    "scat.observe(update_line, names=['y'])\n",
    "\n",
    "fig"
   ]
  },
  {
   "cell_type": "markdown",
   "metadata": {},
   "source": [
    "One can also create linked plots where data selections in one graph can affect the data displayed in another plot. This in fact can be made to interact with any `ipywidgets` based entity, as is illustrated in [this](https://ipyvolume.readthedocs.io/en/latest/bqplot.html#bqplot-scatter-plot) example with `ipyvolume`."
   ]
  },
  {
   "cell_type": "markdown",
   "metadata": {},
   "source": [
    "### Performance\n",
    "\n",
    "Performance is the achilles heel of `bqplot`. The time for rendering graphs is similar to other projects, but interaction feels very slow. Just having 5 histograms on the same plot makes zooming in and out painfully slow: "
   ]
  },
  {
   "cell_type": "code",
   "execution_count": null,
   "metadata": {},
   "outputs": [],
   "source": [
    "N = 50\n",
    "M = 5\n",
    "x = np.arange(N)\n",
    "y = np.random.rand(N, M)\n",
    "fig = plt.figure()\n",
    "for i in range(M):\n",
    "    plt.bar(x, y[:, i], padding=0.0, color=[i]*N)\n",
    "plt.show()"
   ]
  },
  {
   "cell_type": "markdown",
   "metadata": {},
   "source": [
    "There are many issues on the `github` repository on the topic of performance, and this is obviously an area of very active development. In particular it appears that they are trying to make use of WebGL more and more (see [here](https://github.com/glue-viz/bqplot-image-gl)), which would clearly help. Maybe it is simply a matter of time before performance is on par with other similar projects? It is worth coming back to `bqplot` in a year's time to see how this has developed."
   ]
  },
  {
   "cell_type": "markdown",
   "metadata": {},
   "source": [
    "### Documentation\n",
    "\n",
    "Documentation is rather poor on the [readthedocs](https://bqplot.readthedocs.io/en/latest/index.html) website. It basically contains the auto-generated API reference and not much more.\n",
    "\n",
    "To get to grips with how to use `bqplot`, one has to use the (actually very useful) Jupyter notebooks that are bundled up into a [binder](https://mybinder.org/v2/gh/bloomberg/bqplot/0.11.x?filepath=examples/Index.ipynb) image."
   ]
  },
  {
   "cell_type": "markdown",
   "metadata": {},
   "source": [
    "### Community"
   ]
  },
  {
   "cell_type": "markdown",
   "metadata": {},
   "source": [
    "### Risks and project sustainability\n",
    "![bqplot pulse](images/pulse_bqplot.png)\n",
    "\n",
    "The team of `bqplot` developers comprise, among others, Sylvain Corlay (Quantstack founder) & Maarten Breddels (ipyvolume creator), and they are part of several collaborations that make use of `bqplot`, such as [`glue-jupyter`](https://github.com/glue-viz/glue-jupyter), a Jupyter version of the `glueviz` project by Thomas Robitaille (who is also a core `astropy` contributor).\n",
    "\n",
    "Development appears to have been steady over the past 5 years, but it also seems to happens in several different places. Some changes are for instance first implemented in `glue-viz/bqplot-image-gl`, before they are integrated in the main repository. This could be both a good and bad thing."
   ]
  },
  {
   "cell_type": "markdown",
   "metadata": {},
   "source": [
    "### Summary\n",
    "\n",
    "<span style=\"color:green\">**Pros:**</span>\n",
    "\n",
    "- Easy to install\n",
    "- Team of very capable developers\n",
    "- Very complete in terms of features, including clickable/dragable points/lines\n",
    "- Good integration with Jupyter\n",
    "- 3D capable\n",
    "\n",
    "<span style=\"color:red\">**Cons:**</span>\n",
    "\n",
    "- No 3D (relies on `ipyvolume` for 3D)"
   ]
  },
  {
   "cell_type": "markdown",
   "metadata": {},
   "source": [
    "## Holoviz"
   ]
  },
  {
   "cell_type": "code",
   "execution_count": null,
   "metadata": {},
   "outputs": [],
   "source": []
  },
  {
   "cell_type": "markdown",
   "metadata": {},
   "source": [
    "## QtCharts"
   ]
  },
  {
   "cell_type": "code",
   "execution_count": null,
   "metadata": {},
   "outputs": [],
   "source": []
  },
  {
   "cell_type": "markdown",
   "metadata": {},
   "source": [
    "## Ipyvolume"
   ]
  },
  {
   "cell_type": "code",
   "execution_count": null,
   "metadata": {},
   "outputs": [],
   "source": []
  },
  {
   "cell_type": "markdown",
   "metadata": {},
   "source": [
    "## Pyvista"
   ]
  },
  {
   "cell_type": "code",
   "execution_count": null,
   "metadata": {},
   "outputs": [],
   "source": []
  },
  {
   "cell_type": "markdown",
   "metadata": {},
   "source": [
    "## Altair\n"
   ]
  },
  {
   "cell_type": "markdown",
   "metadata": {},
   "source": [
    "`Altair` is also capable of linking data in different plot, reacting through selection of points. As shown in [this](https://altair-viz.github.io/gallery/scatter_with_histogram.html) example, one can select a range in a histogram and only the corresponding points inside the selected bins will appear in the scatter plot.\n",
    "\n",
    "This is an increasingly popular data visualization technique embraced for instance by the `glueviz` project and many others."
   ]
  },
  {
   "cell_type": "markdown",
   "metadata": {},
   "source": [
    "### Risks and project sustainability\n",
    "\n",
    "One of the main disadvantages of `Altair` is that it requires the data to be in a `pandas` DataFrame, thus either forcing us to use `pandas` as our data container, or requiring a (potentially costly?) conversion step between our data container and `pandas` for the plotting."
   ]
  },
  {
   "cell_type": "code",
   "execution_count": null,
   "metadata": {},
   "outputs": [],
   "source": []
  }
 ],
 "metadata": {
  "kernelspec": {
   "display_name": "Python 3",
   "language": "python",
   "name": "python3"
  },
  "language_info": {
   "codemirror_mode": {
    "name": "ipython",
    "version": 3
   },
   "file_extension": ".py",
   "mimetype": "text/x-python",
   "name": "python",
   "nbconvert_exporter": "python",
   "pygments_lexer": "ipython3",
   "version": "3.7.3"
  }
 },
 "nbformat": 4,
 "nbformat_minor": 2
}
