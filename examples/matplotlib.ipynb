{
 "cells": [
  {
   "cell_type": "markdown",
   "metadata": {},
   "source": [
    "# Matplotlib examples"
   ]
  },
  {
   "cell_type": "code",
   "execution_count": null,
   "metadata": {},
   "outputs": [],
   "source": [
    "import numpy as np\n",
    "import matplotlib.pyplot as plt\n",
    "from mpl_toolkits.mplot3d import Axes3D"
   ]
  },
  {
   "cell_type": "code",
   "execution_count": null,
   "metadata": {},
   "outputs": [],
   "source": [
    "%matplotlib notebook"
   ]
  },
  {
   "cell_type": "markdown",
   "metadata": {},
   "source": [
    "## A simple 1D line plot with error bars"
   ]
  },
  {
   "cell_type": "code",
   "execution_count": null,
   "metadata": {},
   "outputs": [],
   "source": [
    "N = 50\n",
    "x = np.arange(N)\n",
    "y = np.random.rand(N)\n",
    "e = 0.1*np.random.rand(N)\n",
    "fig = plt.figure()\n",
    "ax = fig.add_subplot(111)\n",
    "ax.errorbar(x,y,yerr=e)\n",
    "ax.set_xlabel(\"Some x label [m]\")\n",
    "ax.set_ylabel(\"A fancy y label [kg]\")\n",
    "ax.set_title(\"A 1D line plot\")\n",
    "fig.show()"
   ]
  },
  {
   "cell_type": "markdown",
   "metadata": {},
   "source": [
    "## 1D histogram plot with error bars"
   ]
  },
  {
   "cell_type": "code",
   "execution_count": null,
   "metadata": {},
   "outputs": [],
   "source": [
    "N = 50\n",
    "x = np.arange(N+1)\n",
    "y = np.random.rand(N)\n",
    "e = 0.1*np.random.rand(N)\n",
    "fig = plt.figure()\n",
    "ax = fig.add_subplot(111)\n",
    "ax.bar(0.5*(x[:-1] + x[1:]), y, width=np.ediff1d(x),yerr=e)\n",
    "ax.set_xlabel(\"Some x label [m]\")\n",
    "ax.set_ylabel(\"A fancy y label [kg]\")\n",
    "ax.set_title(\"A 1D histogram plot\")\n",
    "fig.show()"
   ]
  },
  {
   "cell_type": "markdown",
   "metadata": {},
   "source": [
    "## 2D image/heatmap with uniformly sized pixels"
   ]
  },
  {
   "cell_type": "code",
   "execution_count": null,
   "metadata": {},
   "outputs": [],
   "source": [
    "N = 100\n",
    "M = 50\n",
    "x = np.arange(N+1)\n",
    "y = np.arange(M+1)\n",
    "z = np.random.rand(M, N).astype(np.float64)\n",
    "fig = plt.figure()\n",
    "ax = fig.add_subplot(111)\n",
    "im = ax.imshow(z, origin=\"lower\", extent=[x[0], x[-1], y[0], y[-1]],\n",
    "               aspect=\"auto\", cmap=\"viridis\")\n",
    "cb = plt.colorbar(im)\n",
    "cb.ax.set_ylabel(\"Counts\")\n",
    "ax.set_xlabel(\"x coordinate\")\n",
    "ax.set_ylabel(\"y coordinate\")\n",
    "ax.set_title(\"A 2D image\")\n",
    "fig.show()"
   ]
  },
  {
   "cell_type": "markdown",
   "metadata": {},
   "source": [
    "## 2D filled contour plot"
   ]
  },
  {
   "cell_type": "code",
   "execution_count": null,
   "metadata": {},
   "outputs": [],
   "source": [
    "N = 100\n",
    "M = 50\n",
    "xx = np.arange(N, dtype=np.float64)\n",
    "yy = np.arange(M, dtype=np.float64)\n",
    "x, y = np.meshgrid(xx, yy)\n",
    "b = N/20.0\n",
    "c = M/2.0\n",
    "r = np.sqrt(((x-c)/b)**2 + ((y-c)/b)**2)\n",
    "z = np.sin(r)\n",
    "fig = plt.figure()\n",
    "ax = fig.add_subplot(111)\n",
    "contf = plt.contourf(x, y, z, cmap=\"viridis\")\n",
    "cb = plt.colorbar(contf)\n",
    "cb.ax.set_ylabel(\"Counts\")\n",
    "ax.set_xlabel(\"x coordinate\")\n",
    "ax.set_ylabel(\"y coordinate\")\n",
    "ax.set_title(\"2D contours\")\n",
    "fig.show()"
   ]
  },
  {
   "cell_type": "markdown",
   "metadata": {},
   "source": [
    "## 2D image/heatmap with non-uniformly sized pixels"
   ]
  },
  {
   "cell_type": "code",
   "execution_count": null,
   "metadata": {},
   "outputs": [],
   "source": [
    "N = 10\n",
    "M = 5\n",
    "x = np.arange(N+1)**2\n",
    "y = np.arange(M+1)\n",
    "z = np.random.rand(M, N).astype(np.float64)\n",
    "fig = plt.figure()\n",
    "ax = fig.add_subplot(111)\n",
    "pcmesh = ax.pcolormesh(x, y, z, cmap=\"viridis\")\n",
    "cb = plt.colorbar(pcmesh)\n",
    "cb.ax.set_ylabel(\"Counts\")\n",
    "ax.set_xlabel(\"x coordinate\")\n",
    "ax.set_ylabel(\"y coordinate\")\n",
    "ax.set_title(\"A 2D image with non-equal sized pixels\")\n",
    "fig.show()"
   ]
  },
  {
   "cell_type": "markdown",
   "metadata": {},
   "source": [
    "## 2D scatter plot with different symbol sizes"
   ]
  },
  {
   "cell_type": "code",
   "execution_count": null,
   "metadata": {},
   "outputs": [],
   "source": [
    "N = 100\n",
    "x = np.random.rand(N).astype(np.float64)\n",
    "y = np.random.rand(N).astype(np.float64)\n",
    "z = np.random.rand(N).astype(np.float64)\n",
    "s = 300.0*np.random.rand(N).astype(np.float64)\n",
    "fig = plt.figure()\n",
    "ax = fig.add_subplot(111)\n",
    "scat = ax.scatter(x, y, c=z, cmap=\"jet\", s=s)\n",
    "cb = plt.colorbar(scat)\n",
    "cb.ax.set_ylabel(\"Counts\")\n",
    "ax.set_xlabel(\"x coordinate\")\n",
    "ax.set_ylabel(\"y coordinate\")\n",
    "ax.set_title(\"A 2D scatter plot\")\n",
    "fig.show()"
   ]
  },
  {
   "cell_type": "markdown",
   "metadata": {},
   "source": [
    "## 2D heatmap with slider through 3D data cube"
   ]
  },
  {
   "cell_type": "code",
   "execution_count": null,
   "metadata": {},
   "outputs": [],
   "source": [
    "from matplotlib.widgets import Slider\n",
    " \n",
    "data = np.random.rand(10, 10, 10)\n",
    "idx = 0\n",
    "\n",
    "fig = plt.figure()\n",
    "ax = fig.add_subplot(111)\n",
    "fig.subplots_adjust(bottom=0.15)\n",
    "\n",
    "im_h = ax.imshow(data[:, :, idx], interpolation='nearest')\n",
    "\n",
    "ax.set_xlabel(\"x coordinate\")\n",
    "ax.set_ylabel(\"y coordinate\")\n",
    "ax.set_title(\"2D heatmap with slider\")\n",
    "cb = plt.colorbar(im_h)\n",
    "cb.ax.set_ylabel(\"Counts\")\n",
    "\n",
    "ax_depth = plt.axes([0.23, 0.02, 0.56, 0.04])\n",
    "slider_depth = Slider(ax_depth,\n",
    "    'depth',\n",
    "    0,\n",
    "    data.shape[2]-1,\n",
    "    valinit=idx)\n",
    "\n",
    "def update_depth(val):\n",
    "    idx = int(round(slider_depth.val))\n",
    "    im_h.set_data(data[:, :, idx])\n",
    "  \n",
    "slider_depth.on_changed(update_depth)\n",
    "  \n",
    "plt.show()"
   ]
  },
  {
   "cell_type": "markdown",
   "metadata": {},
   "source": [
    "## 3D line plot"
   ]
  },
  {
   "cell_type": "code",
   "execution_count": null,
   "metadata": {},
   "outputs": [],
   "source": [
    "N = 100\n",
    "M = 10\n",
    "xx = np.arange(N, dtype=np.float64)\n",
    "yy = np.arange(M, dtype=np.float64)\n",
    "x, y = np.meshgrid(xx, yy)\n",
    "b = M/2.0\n",
    "c = N/2.0\n",
    "r = np.sqrt(((x-c)/b)**2 + ((y-c)/b)**2)\n",
    "z = np.sin(r)\n",
    "\n",
    "fig = plt.figure()\n",
    "ax = fig.add_subplot(111, projection='3d')\n",
    "\n",
    "for i in range(M):\n",
    "    ax.plot(xx, [i]*N, z[i, :])\n",
    "\n",
    "ax.set_xlabel('X')\n",
    "ax.set_ylabel('Y')\n",
    "ax.set_zlabel('Z')\n",
    "fig.show()"
   ]
  },
  {
   "cell_type": "markdown",
   "metadata": {},
   "source": [
    "## 3D scatter plot"
   ]
  },
  {
   "cell_type": "code",
   "execution_count": null,
   "metadata": {},
   "outputs": [],
   "source": [
    "N = 100\n",
    "x = np.random.rand(N).astype(np.float64)\n",
    "y = np.random.rand(N).astype(np.float64)\n",
    "z = np.random.rand(N).astype(np.float64)\n",
    "s = 300.0*np.random.rand(N).astype(np.float64)\n",
    "c = np.abs(z)\n",
    "fig = plt.figure()\n",
    "ax = fig.add_subplot(111, projection='3d')\n",
    "plot = ax.scatter(x, y, z, s=s, c=c, cmap=\"jet\")\n",
    "  \n",
    "ax.set_xlabel(\"x coordinate\")\n",
    "ax.set_ylabel(\"y coordinate\")\n",
    "ax.set_zlabel(\"z coordinate\")\n",
    "ax.set_title(\"A 3D scatter plot\")\n",
    "  \n",
    "cb = plt.colorbar(plot)\n",
    "cb.ax.set_ylabel(\"Counts\")\n",
    "fig.show()"
   ]
  },
  {
   "cell_type": "markdown",
   "metadata": {},
   "source": [
    "## 3d surface"
   ]
  },
  {
   "cell_type": "code",
   "execution_count": null,
   "metadata": {},
   "outputs": [],
   "source": [
    "fig = plt.figure()\n",
    "ax = fig.add_subplot(111, projection='3d')\n",
    "\n",
    "X = np.arange(-5, 5, 0.25)\n",
    "Y = np.arange(-5, 5, 0.25)\n",
    "X, Y = np.meshgrid(X, Y)\n",
    "R = np.sqrt(X**2 + Y**2)\n",
    "Z = np.sin(R)\n",
    "\n",
    "surf = ax.plot_surface(X, Y, Z, linewidth=0, antialiased=False, cmap='viridis')\n",
    "\n",
    "fig.colorbar(surf, shrink=0.5, aspect=5)\n",
    "fig.show()"
   ]
  },
  {
   "cell_type": "markdown",
   "metadata": {},
   "source": [
    "## 3D slicer"
   ]
  },
  {
   "cell_type": "code",
   "execution_count": null,
   "metadata": {},
   "outputs": [],
   "source": [
    "from matplotlib.widgets import Slider\n",
    "\n",
    "N = 50\n",
    "M = 40\n",
    "L = 30\n",
    "xx = np.arange(N, dtype=np.float64)\n",
    "yy = np.arange(M, dtype=np.float64)\n",
    "zz = np.arange(L, dtype=np.float64)\n",
    "x, y, z = np.meshgrid(xx, yy, zz, indexing='ij')\n",
    "b = N/20.0\n",
    "c = M/2.0\n",
    "d = L/2.0\n",
    "r = np.sqrt(((x-c)/b)**2 + ((y-c)/b)**2 + ((z-d)/b)**2)\n",
    "a = np.sin(r)\n",
    "X, Y = np.meshgrid(xx, yy, indexing='ij')\n",
    "\n",
    "fig = plt.figure()\n",
    "ax = fig.add_subplot(111, projection='3d')\n",
    "fig.subplots_adjust(bottom=0.15)\n",
    "\n",
    "color_dimension = a[:,:,idx] # change to desired fourth dimension\n",
    "minn, maxx = color_dimension.min(), color_dimension.max()\n",
    "from matplotlib.colors import Normalize\n",
    "norm = Normalize(minn, maxx)\n",
    "m = plt.cm.ScalarMappable(norm=norm, cmap='viridis')\n",
    "m.set_array([])\n",
    "fcolors = m.to_rgba(color_dimension)\n",
    "\n",
    "# im_h = ax.imshow(data[:, :, idx], interpolation='nearest')\n",
    "surf = ax.plot_surface(X, Y, np.zeros_like(X), linewidth=0, antialiased=False, facecolors=fcolors)\n",
    "\n",
    "ax.set_xlabel(\"x coordinate\")\n",
    "ax.set_ylabel(\"y coordinate\")\n",
    "ax.set_title(\"3D slicer\")\n",
    "ax.set_zlim([0, L])\n",
    "cb = plt.colorbar(surf)\n",
    "cb.ax.set_ylabel(\"Counts\")\n",
    "\n",
    "ax_depth = plt.axes([0.23, 0.02, 0.56, 0.04])\n",
    "slider_depth = Slider(ax_depth,\n",
    "    'depth',\n",
    "    0,\n",
    "    L-1,\n",
    "    valinit=idx)\n",
    "\n",
    "def update_depth(val):\n",
    "    idx = int(round(slider_depth.val))\n",
    "    fcolors = m.to_rgba(a[:,:,idx])\n",
    "#     surf.set_verts() # Could not get the slider to work\n",
    "  \n",
    "slider_depth.on_changed(update_depth)\n",
    "  \n",
    "plt.show()"
   ]
  },
  {
   "cell_type": "markdown",
   "metadata": {},
   "source": [
    "## Additional examples\n",
    "<a id='interactive_examples'></a>\n",
    "### Interactive 1: Scrolling with the mouse through the 3rd dimension of a 3D data cube\n",
    "\n",
    "Source: https://matplotlib.org/examples/pylab_examples/image_slices_viewer.html"
   ]
  },
  {
   "cell_type": "code",
   "execution_count": null,
   "metadata": {},
   "outputs": [],
   "source": [
    "class IndexTracker(object):\n",
    "    def __init__(self, ax, X):\n",
    "        self.ax = ax\n",
    "        ax.set_title('use scroll wheel to navigate images')\n",
    "\n",
    "        self.X = X\n",
    "        rows, cols, self.slices = X.shape\n",
    "        self.ind = self.slices//2\n",
    "\n",
    "        self.im = ax.imshow(self.X[:, :, self.ind])\n",
    "        self.update()\n",
    "\n",
    "    def onscroll(self, event):\n",
    "        print(\"%s %s\" % (event.button, event.step))\n",
    "        if event.button == 'up':\n",
    "            self.ind = np.clip(self.ind + 1, 0, self.slices - 1)\n",
    "        else:\n",
    "            self.ind = np.clip(self.ind - 1, 0, self.slices - 1)\n",
    "        self.update()\n",
    "\n",
    "    def update(self):\n",
    "        self.im.set_data(self.X[:, :, self.ind])\n",
    "        ax.set_ylabel('slice %s' % self.ind)\n",
    "        self.im.axes.figure.canvas.draw()\n",
    "\n",
    "\n",
    "fig, ax = plt.subplots(1, 1)\n",
    "\n",
    "X = np.random.rand(20, 20, 40)\n",
    "\n",
    "tracker = IndexTracker(ax, X)\n",
    "\n",
    "\n",
    "fig.canvas.mpl_connect('scroll_event', tracker.onscroll)\n",
    "plt.show()"
   ]
  },
  {
   "cell_type": "markdown",
   "metadata": {},
   "source": [
    "## Interactive 2: Click on a legend item to hide/show the corresponding line\n",
    "\n",
    "Source: https://matplotlib.org/examples/event_handling/legend_picking.html"
   ]
  },
  {
   "cell_type": "code",
   "execution_count": null,
   "metadata": {},
   "outputs": [],
   "source": [
    "t = np.arange(0.0, 0.2, 0.1)\n",
    "y1 = 2*np.sin(2*np.pi*t)\n",
    "y2 = 4*np.sin(2*np.pi*2*t)\n",
    "\n",
    "fig, ax = plt.subplots()\n",
    "ax.set_title('Click on legend line to toggle line on/off')\n",
    "line1, = ax.plot(t, y1, lw=2, color='red', label='1 HZ')\n",
    "line2, = ax.plot(t, y2, lw=2, color='blue', label='2 HZ')\n",
    "leg = ax.legend(loc='upper left', fancybox=True, shadow=True)\n",
    "leg.get_frame().set_alpha(0.4)\n",
    "\n",
    "\n",
    "# we will set up a dict mapping legend line to orig line, and enable\n",
    "# picking on the legend line\n",
    "lines = [line1, line2]\n",
    "lined = dict()\n",
    "for legline, origline in zip(leg.get_lines(), lines):\n",
    "    legline.set_picker(5)  # 5 pts tolerance\n",
    "    lined[legline] = origline\n",
    "\n",
    "\n",
    "def onpick(event):\n",
    "    # on the pick event, find the orig line corresponding to the\n",
    "    # legend proxy line, and toggle the visibility\n",
    "    legline = event.artist\n",
    "    origline = lined[legline]\n",
    "    vis = not origline.get_visible()\n",
    "    origline.set_visible(vis)\n",
    "    # Change the alpha on the line in the legend so we can see what lines\n",
    "    # have been toggled\n",
    "    if vis:\n",
    "        legline.set_alpha(1.0)\n",
    "    else:\n",
    "        legline.set_alpha(0.2)\n",
    "    fig.canvas.draw()\n",
    "\n",
    "fig.canvas.mpl_connect('pick_event', onpick)\n",
    "\n",
    "plt.show()"
   ]
  },
  {
   "cell_type": "markdown",
   "metadata": {},
   "source": [
    "## 3. Slider and RadioButtons demo\n",
    "\n",
    "Source: https://matplotlib.org/3.1.1/gallery/widgets/slider_demo.html"
   ]
  },
  {
   "cell_type": "code",
   "execution_count": null,
   "metadata": {},
   "outputs": [],
   "source": [
    "from matplotlib.widgets import Slider, Button, RadioButtons\n",
    "\n",
    "fig, ax = plt.subplots()\n",
    "plt.subplots_adjust(left=0.25, bottom=0.25)\n",
    "t = np.arange(0.0, 1.0, 0.001)\n",
    "a0 = 5\n",
    "f0 = 3\n",
    "delta_f = 5.0\n",
    "s = a0 * np.sin(2 * np.pi * f0 * t)\n",
    "l, = plt.plot(t, s, lw=2)\n",
    "ax.margins(x=0)\n",
    "\n",
    "axcolor = 'lightgoldenrodyellow'\n",
    "axfreq = plt.axes([0.25, 0.1, 0.65, 0.03], facecolor=axcolor)\n",
    "axamp = plt.axes([0.25, 0.15, 0.65, 0.03], facecolor=axcolor)\n",
    "\n",
    "sfreq = Slider(axfreq, 'Freq', 0.1, 30.0, valinit=f0, valstep=delta_f)\n",
    "samp = Slider(axamp, 'Amp', 0.1, 10.0, valinit=a0)\n",
    "\n",
    "\n",
    "def update(val):\n",
    "    amp = samp.val\n",
    "    freq = sfreq.val\n",
    "    l.set_ydata(amp*np.sin(2*np.pi*freq*t))\n",
    "    fig.canvas.draw_idle()\n",
    "\n",
    "\n",
    "sfreq.on_changed(update)\n",
    "samp.on_changed(update)\n",
    "\n",
    "resetax = plt.axes([0.8, 0.025, 0.1, 0.04])\n",
    "button = Button(resetax, 'Reset', color=axcolor, hovercolor='0.975')\n",
    "\n",
    "\n",
    "def reset(event):\n",
    "    sfreq.reset()\n",
    "    samp.reset()\n",
    "button.on_clicked(reset)\n",
    "\n",
    "rax = plt.axes([0.025, 0.5, 0.15, 0.15], facecolor=axcolor)\n",
    "radio = RadioButtons(rax, ('red', 'blue', 'green'), active=0)\n",
    "\n",
    "\n",
    "def colorfunc(label):\n",
    "    l.set_color(label)\n",
    "    fig.canvas.draw_idle()\n",
    "radio.on_clicked(colorfunc)\n",
    "\n",
    "plt.show()"
   ]
  },
  {
   "cell_type": "markdown",
   "metadata": {},
   "source": [
    "## 4. Lasso selector demo\n",
    "Source: https://matplotlib.org/3.1.1/gallery/widgets/lasso_selector_demo_sgskip.html\n",
    "**Note**: the lasso line does not show up in the Jupyter notebook"
   ]
  },
  {
   "cell_type": "code",
   "execution_count": null,
   "metadata": {},
   "outputs": [],
   "source": [
    "from matplotlib.widgets import LassoSelector\n",
    "from matplotlib.path import Path\n",
    "\n",
    "\n",
    "class SelectFromCollection(object):\n",
    "    \"\"\"Select indices from a matplotlib collection using `LassoSelector`.\n",
    "\n",
    "    Selected indices are saved in the `ind` attribute. This tool fades out the\n",
    "    points that are not part of the selection (i.e., reduces their alpha\n",
    "    values). If your collection has alpha < 1, this tool will permanently\n",
    "    alter the alpha values.\n",
    "\n",
    "    Note that this tool selects collection objects based on their *origins*\n",
    "    (i.e., `offsets`).\n",
    "\n",
    "    Parameters\n",
    "    ----------\n",
    "    ax : :class:`~matplotlib.axes.Axes`\n",
    "        Axes to interact with.\n",
    "\n",
    "    collection : :class:`matplotlib.collections.Collection` subclass\n",
    "        Collection you want to select from.\n",
    "\n",
    "    alpha_other : 0 <= float <= 1\n",
    "        To highlight a selection, this tool sets all selected points to an\n",
    "        alpha value of 1 and non-selected points to `alpha_other`.\n",
    "    \"\"\"\n",
    "\n",
    "    def __init__(self, ax, collection, alpha_other=0.3):\n",
    "        self.canvas = ax.figure.canvas\n",
    "        self.collection = collection\n",
    "        self.alpha_other = alpha_other\n",
    "\n",
    "        self.xys = collection.get_offsets()\n",
    "        self.Npts = len(self.xys)\n",
    "\n",
    "        # Ensure that we have separate colors for each object\n",
    "        self.fc = collection.get_facecolors()\n",
    "        if len(self.fc) == 0:\n",
    "            raise ValueError('Collection must have a facecolor')\n",
    "        elif len(self.fc) == 1:\n",
    "            self.fc = np.tile(self.fc, (self.Npts, 1))\n",
    "\n",
    "        self.lasso = LassoSelector(ax, onselect=self.onselect, lineprops={\"color\":'red', 'linewidth':3, 'alpha':0.8})\n",
    "        self.ind = []\n",
    "\n",
    "    def onselect(self, verts):\n",
    "        path = Path(verts)\n",
    "        self.ind = np.nonzero(path.contains_points(self.xys))[0]\n",
    "        self.fc[:, -1] = self.alpha_other\n",
    "        self.fc[self.ind, -1] = 1\n",
    "        self.collection.set_facecolors(self.fc)\n",
    "        self.canvas.draw_idle()\n",
    "\n",
    "    def disconnect(self):\n",
    "        self.lasso.disconnect_events()\n",
    "        self.fc[:, -1] = 1\n",
    "        self.collection.set_facecolors(self.fc)\n",
    "        self.canvas.draw_idle()\n",
    "\n",
    "\n",
    "if __name__ == '__main__':\n",
    "    import matplotlib.pyplot as plt\n",
    "\n",
    "    # Fixing random state for reproducibility\n",
    "    np.random.seed(19680801)\n",
    "\n",
    "    data = np.random.rand(100, 2)\n",
    "\n",
    "    subplot_kw = dict(xlim=(0, 1), ylim=(0, 1), autoscale_on=False)\n",
    "    fig, ax = plt.subplots(subplot_kw=subplot_kw)\n",
    "\n",
    "    pts = ax.scatter(data[:, 0], data[:, 1], s=80)\n",
    "    selector = SelectFromCollection(ax, pts)\n",
    "\n",
    "    def accept(event):\n",
    "        if event.key == \"enter\":\n",
    "            print(\"Selected points:\")\n",
    "            print(selector.xys[selector.ind])\n",
    "            selector.disconnect()\n",
    "            ax.set_title(\"\")\n",
    "            fig.canvas.draw()\n",
    "\n",
    "    fig.canvas.mpl_connect(\"key_press_event\", accept)\n",
    "    ax.set_title(\"Press enter to accept selected points.\")\n",
    "\n",
    "    plt.show()"
   ]
  },
  {
   "cell_type": "code",
   "execution_count": null,
   "metadata": {},
   "outputs": [],
   "source": []
  }
 ],
 "metadata": {
  "kernelspec": {
   "display_name": "Python 3",
   "language": "python",
   "name": "python3"
  },
  "language_info": {
   "codemirror_mode": {
    "name": "ipython",
    "version": 3
   },
   "file_extension": ".py",
   "mimetype": "text/x-python",
   "name": "python",
   "nbconvert_exporter": "python",
   "pygments_lexer": "ipython3",
   "version": "3.7.3"
  }
 },
 "nbformat": 4,
 "nbformat_minor": 2
}
