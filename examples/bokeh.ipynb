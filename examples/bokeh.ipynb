{
 "cells": [
  {
   "cell_type": "markdown",
   "metadata": {},
   "source": [
    "# Bokeh examples"
   ]
  },
  {
   "cell_type": "code",
   "execution_count": null,
   "metadata": {},
   "outputs": [],
   "source": [
    "import numpy as np\n",
    "import bokeh.plotting as plt"
   ]
  },
  {
   "cell_type": "code",
   "execution_count": null,
   "metadata": {},
   "outputs": [],
   "source": [
    "plt.output_notebook()"
   ]
  },
  {
   "cell_type": "markdown",
   "metadata": {},
   "source": [
    "## A simple 1D line plot with error bars"
   ]
  },
  {
   "cell_type": "code",
   "execution_count": null,
   "metadata": {},
   "outputs": [],
   "source": [
    "from bokeh.models import ColumnDataSource, Whisker\n",
    "N = 50\n",
    "x = np.arange(N)\n",
    "y = np.random.rand(N)\n",
    "err = 0.1*np.random.rand(N)\n",
    "upper = [xx+e for xx,e in zip(y, err) ]\n",
    "lower = [xx-e for xx,e in zip(y, err) ]\n",
    "\n",
    "p = plt.figure(title=\"A 1D line plot\", x_axis_label='Some x label [m]', y_axis_label='A fancy y label [kg]')\n",
    "p.line(x, y, legend=\"Sample\", line_width=2)\n",
    "\n",
    "# To handle error bars\n",
    "source = ColumnDataSource(data=dict(base=x, counts=y, upper=upper, lower=lower))\n",
    "p.add_layout(Whisker(source=source, base=\"base\", upper=\"upper\", lower=\"lower\", level=\"overlay\"))\n",
    "plt.show(p)"
   ]
  },
  {
   "cell_type": "markdown",
   "metadata": {},
   "source": [
    "## 1D histogram plot with error bars"
   ]
  },
  {
   "cell_type": "code",
   "execution_count": null,
   "metadata": {},
   "outputs": [],
   "source": [
    "N = 50\n",
    "x = np.arange(N+1)\n",
    "y = np.random.rand(N)\n",
    "e = 0.1*np.random.rand(N)\n",
    "xc = 0.5*(x[:-1] + x[1:])\n",
    "upper = [xx+e for xx,e in zip(y, err) ]\n",
    "lower = [xx-e for xx,e in zip(y, err) ]\n",
    "\n",
    "p = plt.figure(title=\"A 1D histogram plot\", x_axis_label='Some x label [m]', y_axis_label='A fancy y label [kg]')\n",
    "p.vbar(x=xc, width=np.ediff1d(x), bottom=0, top=y)\n",
    "\n",
    "# To handle error bars\n",
    "source = ColumnDataSource(data=dict(base=xc, counts=y, upper=upper, lower=lower))\n",
    "p.add_layout(Whisker(source=source, base=\"base\", upper=\"upper\", lower=\"lower\", level=\"overlay\"))\n",
    "plt.show(p)"
   ]
  },
  {
   "cell_type": "markdown",
   "metadata": {},
   "source": [
    "## 2D image/heatmap with uniformly sized pixels"
   ]
  },
  {
   "cell_type": "code",
   "execution_count": null,
   "metadata": {},
   "outputs": [],
   "source": [
    "N = 100\n",
    "M = 50\n",
    "x = np.arange(N+1)\n",
    "y = np.arange(M+1)\n",
    "z = np.random.rand(M, N).astype(np.float64)\n",
    "\n",
    "p = plt.figure(x_range=(x[0], x[-1]), y_range=(y[0], y[-1]))\n",
    "p.image(image=[z], x=[0], y=[0], dw=[N], dh=[M],  palette=\"Viridis256\")\n",
    "\n",
    "plt.show(p)"
   ]
  },
  {
   "cell_type": "markdown",
   "metadata": {},
   "source": [
    "## 2D filled contour plot"
   ]
  },
  {
   "cell_type": "code",
   "execution_count": null,
   "metadata": {},
   "outputs": [],
   "source": [
    "# Not possible in Bokeh"
   ]
  },
  {
   "cell_type": "markdown",
   "metadata": {},
   "source": [
    "## 2D image/heatmap with non-uniformly sized pixels"
   ]
  },
  {
   "cell_type": "code",
   "execution_count": null,
   "metadata": {},
   "outputs": [],
   "source": [
    "# Not possible in Bokeh"
   ]
  },
  {
   "cell_type": "markdown",
   "metadata": {},
   "source": [
    "## 2D scatter plot with different symbol sizes"
   ]
  },
  {
   "cell_type": "code",
   "execution_count": null,
   "metadata": {},
   "outputs": [],
   "source": [
    "N = 100\n",
    "x = np.random.rand(N).astype(np.float64)\n",
    "y = np.random.rand(N).astype(np.float64)\n",
    "z = 255.0 * np.random.rand(N, 3).astype(np.float64)\n",
    "s = 0.05*np.random.rand(N).astype(np.float64)\n",
    "\n",
    "colors = [\n",
    "    \"#%02x%02x%02x\" % (int(z[i, 0]), int(z[i, 1]), int(z[i, 2])) for i in range(N)\n",
    "]\n",
    "\n",
    "p = plt.figure()\n",
    "p.scatter(x, y, radius=s,\n",
    "          fill_color=colors, fill_alpha=0.6,\n",
    "          line_color=None)\n",
    "plt.show(p)"
   ]
  },
  {
   "cell_type": "markdown",
   "metadata": {},
   "source": [
    "## 2D heatmap with slider through 3D data cube"
   ]
  },
  {
   "cell_type": "code",
   "execution_count": null,
   "metadata": {
    "scrolled": false
   },
   "outputs": [],
   "source": [
    "from bokeh.layouts import row\n",
    "from bokeh.models import Slider, CustomJS\n",
    "\n",
    "z = np.random.rand(10, 10, 10)\n",
    "idx = 0\n",
    "\n",
    "p = plt.figure()\n",
    "p.image(image=[z[:,:,idx]], x=[0], y=[0], dw=[10], dh=[10],  palette=\"Viridis256\")\n",
    "\n",
    "\n",
    "callback = CustomJS(args=dict(source=source), code=\"\"\"\n",
    "    var data = source.data;\n",
    "    var f = cb_obj.value\n",
    "    var z = data['image']\n",
    "    z =\n",
    "    var y = data['y']\n",
    "    for (var i = 0; i < x.length; i++) {\n",
    "        y[i] = Math.pow(x[i], f)\n",
    "    }\n",
    "    source.change.emit();\n",
    "\"\"\")\n",
    "\n",
    "def update_depth(val):\n",
    "    print(val)\n",
    "    idx = val[\"new\"]\n",
    "    p.image.z = z[:, :, idx]\n",
    "\n",
    "# slider = Slider(start=0, end=9, value=0, step=1, title=\"index\", callback=update_depth)\n",
    "layout = row(p)#, slider)\n",
    "\n",
    "plt.show(layout)"
   ]
  },
  {
   "cell_type": "code",
   "execution_count": null,
   "metadata": {},
   "outputs": [],
   "source": [
    "p."
   ]
  },
  {
   "cell_type": "markdown",
   "metadata": {},
   "source": [
    "## 3D line plot"
   ]
  },
  {
   "cell_type": "code",
   "execution_count": null,
   "metadata": {
    "scrolled": false
   },
   "outputs": [],
   "source": [
    "# No 3D in Bokeh"
   ]
  },
  {
   "cell_type": "markdown",
   "metadata": {},
   "source": [
    "## 3D scatter plot"
   ]
  },
  {
   "cell_type": "code",
   "execution_count": null,
   "metadata": {},
   "outputs": [],
   "source": [
    "# No 3D in Bokeh"
   ]
  },
  {
   "cell_type": "markdown",
   "metadata": {},
   "source": [
    "## 3d surface"
   ]
  },
  {
   "cell_type": "code",
   "execution_count": null,
   "metadata": {},
   "outputs": [],
   "source": [
    "# No 3D in Bokeh"
   ]
  },
  {
   "cell_type": "markdown",
   "metadata": {},
   "source": [
    "## 3D slicer"
   ]
  },
  {
   "cell_type": "code",
   "execution_count": null,
   "metadata": {},
   "outputs": [],
   "source": [
    "# No 3D in Bokeh"
   ]
  },
  {
   "cell_type": "markdown",
   "metadata": {},
   "source": [
    "## 2D scatter plot with 100,000 points"
   ]
  },
  {
   "cell_type": "code",
   "execution_count": null,
   "metadata": {},
   "outputs": [],
   "source": [
    "N = 100000\n",
    "x = np.random.randn(N)\n",
    "y = np.random.randn(N)\n",
    "z = 255.0 * np.random.rand(N, 3).astype(np.float64)\n",
    "\n",
    "colors = [\n",
    "    \"#%02x%02x%02x\" % (int(z[i, 0]), int(z[i, 1]), int(z[i, 2])) for i in range(N)\n",
    "]\n",
    "\n",
    "p = plt.figure()\n",
    "p.scatter(x, y,\n",
    "          fill_color=colors, fill_alpha=0.6,\n",
    "          line_color=None)\n",
    "plt.show(p)"
   ]
  },
  {
   "cell_type": "code",
   "execution_count": null,
   "metadata": {},
   "outputs": [],
   "source": []
  }
 ],
 "metadata": {
  "kernelspec": {
   "display_name": "Python 3",
   "language": "python",
   "name": "python3"
  },
  "language_info": {
   "codemirror_mode": {
    "name": "ipython",
    "version": 3
   },
   "file_extension": ".py",
   "mimetype": "text/x-python",
   "name": "python",
   "nbconvert_exporter": "python",
   "pygments_lexer": "ipython3",
   "version": "3.7.3"
  }
 },
 "nbformat": 4,
 "nbformat_minor": 2
}
