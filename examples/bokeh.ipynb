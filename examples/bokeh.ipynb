{
 "cells": [
  {
   "cell_type": "markdown",
   "metadata": {},
   "source": [
    "# Bokeh examples"
   ]
  },
  {
   "cell_type": "code",
   "execution_count": null,
   "metadata": {},
   "outputs": [],
   "source": [
    "import numpy as np\n",
    "import bokeh.plotting as plt"
   ]
  },
  {
   "cell_type": "code",
   "execution_count": null,
   "metadata": {},
   "outputs": [],
   "source": [
    "plt.output_notebook()"
   ]
  },
  {
   "cell_type": "markdown",
   "metadata": {},
   "source": [
    "## A simple 1D line plot with error bars"
   ]
  },
  {
   "cell_type": "code",
   "execution_count": null,
   "metadata": {},
   "outputs": [],
   "source": [
    "from bokeh.models import ColumnDataSource, Whisker\n",
    "N = 50\n",
    "x = np.arange(N)\n",
    "y = np.random.rand(N)\n",
    "err = 0.1*np.random.rand(N)\n",
    "upper = [xx+e for xx,e in zip(y, err) ]\n",
    "lower = [xx-e for xx,e in zip(y, err) ]\n",
    "\n",
    "p = plt.figure(title=\"A 1D line plot\", x_axis_label='Some x label [m]', y_axis_label='A fancy y label [kg]')\n",
    "p.line(x, y, legend=\"Sample\", line_width=2)\n",
    "\n",
    "# To handle error bars\n",
    "source = ColumnDataSource(data=dict(base=x, counts=y, upper=upper, lower=lower))\n",
    "p.add_layout(Whisker(source=source, base=\"base\", upper=\"upper\", lower=\"lower\", level=\"overlay\"))\n",
    "plt.show(p)"
   ]
  },
  {
   "cell_type": "markdown",
   "metadata": {},
   "source": [
    "## 1D histogram plot with error bars"
   ]
  },
  {
   "cell_type": "code",
   "execution_count": null,
   "metadata": {},
   "outputs": [],
   "source": [
    "N = 50\n",
    "x = np.arange(N+1)\n",
    "y = np.random.rand(N)\n",
    "e = 0.1*np.random.rand(N)\n",
    "xc = 0.5*(x[:-1] + x[1:])\n",
    "upper = [xx+e for xx,e in zip(y, err) ]\n",
    "lower = [xx-e for xx,e in zip(y, err) ]\n",
    "\n",
    "p = plt.figure(title=\"A 1D histogram plot\", x_axis_label='Some x label [m]', y_axis_label='A fancy y label [kg]')\n",
    "p.vbar(x=xc, width=np.ediff1d(x), bottom=0, top=y)\n",
    "\n",
    "# To handle error bars\n",
    "source = ColumnDataSource(data=dict(base=xc, counts=y, upper=upper, lower=lower))\n",
    "p.add_layout(Whisker(source=source, base=\"base\", upper=\"upper\", lower=\"lower\", level=\"overlay\"))\n",
    "plt.show(p)"
   ]
  },
  {
   "cell_type": "markdown",
   "metadata": {},
   "source": [
    "## 2D image/heatmap with uniformly sized pixels"
   ]
  },
  {
   "cell_type": "code",
   "execution_count": null,
   "metadata": {},
   "outputs": [],
   "source": [
    "N = 100\n",
    "M = 50\n",
    "x = np.arange(N+1)\n",
    "y = np.arange(M+1)\n",
    "z = np.random.rand(M, N).astype(np.float64)\n",
    "\n",
    "p = plt.figure(x_range=(x[0], x[-1]), y_range=(y[0], y[-1]))\n",
    "p.image(image=[z], x=[0], y=[0], dw=[N], dh=[M],  palette=\"Viridis256\")\n",
    "\n",
    "plt.show(p)"
   ]
  },
  {
   "cell_type": "markdown",
   "metadata": {},
   "source": [
    "## 2D filled contour plot"
   ]
  },
  {
   "cell_type": "code",
   "execution_count": null,
   "metadata": {},
   "outputs": [],
   "source": [
    "# Not possible in Bokeh"
   ]
  },
  {
   "cell_type": "markdown",
   "metadata": {},
   "source": [
    "## 2D image/heatmap with non-uniformly sized pixels"
   ]
  },
  {
   "cell_type": "code",
   "execution_count": null,
   "metadata": {},
   "outputs": [],
   "source": [
    "# Not possible in Bokeh"
   ]
  },
  {
   "cell_type": "markdown",
   "metadata": {},
   "source": [
    "## 2D scatter plot with different symbol sizes"
   ]
  },
  {
   "cell_type": "code",
   "execution_count": null,
   "metadata": {},
   "outputs": [],
   "source": [
    "N = 100\n",
    "x = np.random.rand(N).astype(np.float64)\n",
    "y = np.random.rand(N).astype(np.float64)\n",
    "z = 255.0 * np.random.rand(N, 3).astype(np.float64)\n",
    "s = 0.05*np.random.rand(N).astype(np.float64)\n",
    "\n",
    "colors = [\n",
    "    \"#%02x%02x%02x\" % (int(z[i, 0]), int(z[i, 1]), int(z[i, 2])) for i in range(N)\n",
    "]\n",
    "\n",
    "p = plt.figure()\n",
    "p.scatter(x, y, radius=s,\n",
    "          fill_color=colors, fill_alpha=0.6,\n",
    "          line_color=None)\n",
    "plt.show(p)"
   ]
  },
  {
   "cell_type": "markdown",
   "metadata": {},
   "source": [
    "## 2D heatmap with slider through 3D data cube"
   ]
  },
  {
   "cell_type": "code",
   "execution_count": null,
   "metadata": {
    "scrolled": false
   },
   "outputs": [],
   "source": [
    "from bokeh.layouts import row\n",
    "from bokeh.models import Slider, CustomJS\n",
    "\n",
    "z = np.random.rand(10, 10, 10)\n",
    "idx = 0\n",
    "\n",
    "p = plt.figure()\n",
    "p.image(image=[z[:,:,idx]], x=[0], y=[0], dw=[10], dh=[10],  palette=\"Viridis256\")\n",
    "\n",
    "\n",
    "callback = CustomJS(args=dict(source=source), code=\"\"\"\n",
    "    var data = source.data;\n",
    "    var f = cb_obj.value\n",
    "    var z = data['image']\n",
    "    z =\n",
    "    var y = data['y']\n",
    "    for (var i = 0; i < x.length; i++) {\n",
    "        y[i] = Math.pow(x[i], f)\n",
    "    }\n",
    "    source.change.emit();\n",
    "\"\"\")\n",
    "\n",
    "def update_depth(val):\n",
    "    print(val)\n",
    "    idx = val[\"new\"]\n",
    "    p.image.z = z[:, :, idx]\n",
    "\n",
    "# slider = Slider(start=0, end=9, value=0, step=1, title=\"index\", callback=update_depth)\n",
    "layout = row(p)#, slider)\n",
    "\n",
    "plt.show(layout)"
   ]
  },
  {
   "cell_type": "code",
   "execution_count": null,
   "metadata": {},
   "outputs": [],
   "source": [
    "p."
   ]
  },
  {
   "cell_type": "markdown",
   "metadata": {},
   "source": [
    "## 3D line plot"
   ]
  },
  {
   "cell_type": "code",
   "execution_count": null,
   "metadata": {
    "scrolled": false
   },
   "outputs": [],
   "source": [
    "N = 100\n",
    "M = 10\n",
    "xx = np.arange(N, dtype=np.float64)\n",
    "yy = np.arange(M, dtype=np.float64)\n",
    "x, y = np.meshgrid(xx, yy)\n",
    "b = M/2.0\n",
    "c = N/2.0\n",
    "r = np.sqrt(((x-c)/b)**2 + ((y-c)/b)**2)\n",
    "z = np.sin(r)\n",
    "\n",
    "layout = {\"title\": \"A 3D scatter plot\"}\n",
    "\n",
    "trace = []\n",
    "for i in range(M):\n",
    "    trace.append(go.Scatter3d(x=xx, y=[i]*N, z=z[i, :], mode='lines', line={\"width\":4}))\n",
    "\n",
    "fig = go.Figure(data=trace, layout=layout)\n",
    "fig.update_layout(scene=dict(\n",
    "    xaxis_title=\"X coord\",\n",
    "    yaxis_title=\"Y coord\",\n",
    "    zaxis_title=\"Z coord\"))\n",
    "fig"
   ]
  },
  {
   "cell_type": "markdown",
   "metadata": {},
   "source": [
    "## 3D scatter plot"
   ]
  },
  {
   "cell_type": "code",
   "execution_count": null,
   "metadata": {},
   "outputs": [],
   "source": [
    "N = 100\n",
    "x = np.random.rand(N).astype(np.float64)\n",
    "y = np.random.rand(N).astype(np.float64)\n",
    "z = np.random.rand(N).astype(np.float64)\n",
    "s = 30.0*np.random.rand(N).astype(np.float64)\n",
    "c = np.abs(z)\n",
    "trace = go.Scatter3d(x=x, y=y, z=z,\n",
    "                     mode=\"markers\",\n",
    "                     marker={\"size\":s,\n",
    "                               \"color\":z,\n",
    "                               \"colorscale\":'Jet',\n",
    "                               \"showscale\":True,\n",
    "                               \"colorbar\":{\"title\":\"Counts\",\n",
    "                                           \"titleside\":\"right\"}\n",
    "                              }\n",
    "                    )\n",
    "\n",
    "fig = go.Figure(data=trace)\n",
    "fig.update_layout(scene=dict(\n",
    "    xaxis_title=\"X coord\",\n",
    "    yaxis_title=\"Y coord\",\n",
    "    zaxis_title=\"Z coord\"))\n",
    "fig"
   ]
  },
  {
   "cell_type": "markdown",
   "metadata": {},
   "source": [
    "## 3d surface"
   ]
  },
  {
   "cell_type": "code",
   "execution_count": null,
   "metadata": {},
   "outputs": [],
   "source": [
    "X = np.arange(-5, 5, 0.25)\n",
    "Y = np.arange(-5, 5, 0.25)\n",
    "X, Y = np.meshgrid(X, Y)\n",
    "R = np.sqrt(X**2 + Y**2)\n",
    "Z = np.sin(R)\n",
    "\n",
    "surf = go.Surface(x=X, y=Y, z=Z)\n",
    "\n",
    "fig = go.Figure(data=surf)\n",
    "fig.update_layout(scene=dict(\n",
    "    xaxis_title=\"X coord\",\n",
    "    yaxis_title=\"Y coord\",\n",
    "    zaxis_title=\"Z coord\"))\n",
    "fig"
   ]
  },
  {
   "cell_type": "markdown",
   "metadata": {},
   "source": [
    "## 3D slicer"
   ]
  },
  {
   "cell_type": "code",
   "execution_count": null,
   "metadata": {},
   "outputs": [],
   "source": [
    "# from matplotlib.widgets import Slider\n",
    "\n",
    "# N = 50\n",
    "# M = 40\n",
    "# L = 30\n",
    "# xx = np.arange(N, dtype=np.float64)\n",
    "# yy = np.arange(M, dtype=np.float64)\n",
    "# zz = np.arange(L, dtype=np.float64)\n",
    "# x, y, z = np.meshgrid(xx, yy, zz, indexing='ij')\n",
    "# b = N/20.0\n",
    "# c = M/2.0\n",
    "# d = L/2.0\n",
    "# r = np.sqrt(((x-c)/b)**2 + ((y-c)/b)**2 + ((z-d)/b)**2)\n",
    "# a = np.sin(r)\n",
    "# X, Y = np.meshgrid(xx, yy, indexing='ij')\n",
    "\n",
    "# fig = plt.figure()\n",
    "# ax = fig.add_subplot(111, projection='3d')\n",
    "# fig.subplots_adjust(bottom=0.15)\n",
    "\n",
    "# color_dimension = a[:,:,idx] # change to desired fourth dimension\n",
    "# minn, maxx = color_dimension.min(), color_dimension.max()\n",
    "# from matplotlib.colors import Normalize\n",
    "# norm = Normalize(minn, maxx)\n",
    "# m = plt.cm.ScalarMappable(norm=norm, cmap='viridis')\n",
    "# m.set_array([])\n",
    "# fcolors = m.to_rgba(color_dimension)\n",
    "\n",
    "# # im_h = ax.imshow(data[:, :, idx], interpolation='nearest')\n",
    "# surf = ax.plot_surface(X, Y, np.zeros_like(X), linewidth=0, antialiased=False, facecolors=fcolors)\n",
    "\n",
    "# ax.set_xlabel(\"x coordinate\")\n",
    "# ax.set_ylabel(\"y coordinate\")\n",
    "# ax.set_title(\"3D slicer\")\n",
    "# ax.set_zlim([0, L])\n",
    "# cb = plt.colorbar(surf)\n",
    "# cb.ax.set_ylabel(\"Counts\")\n",
    "\n",
    "# ax_depth = plt.axes([0.23, 0.02, 0.56, 0.04])\n",
    "# slider_depth = Slider(ax_depth,\n",
    "#     'depth',\n",
    "#     0,\n",
    "#     L-1,\n",
    "#     valinit=idx)\n",
    "\n",
    "# def update_depth(val):\n",
    "#     idx = int(round(slider_depth.val))\n",
    "#     fcolors = m.to_rgba(a[:,:,idx])\n",
    "# #     surf.set_verts() # Could not get the slider to work\n",
    "  \n",
    "# slider_depth.on_changed(update_depth)\n",
    "  \n",
    "# plt.show()"
   ]
  },
  {
   "cell_type": "markdown",
   "metadata": {},
   "source": [
    "# Additional examples"
   ]
  },
  {
   "cell_type": "markdown",
   "metadata": {},
   "source": [
    "<a id='plotly_in_qt'></a>\n",
    "## Embed plotly graph in Qt window"
   ]
  },
  {
   "cell_type": "code",
   "execution_count": null,
   "metadata": {},
   "outputs": [],
   "source": [
    "import os, sys\n",
    "from PyQt5.QtWidgets import QApplication\n",
    "from PyQt5.QtCore import QUrl\n",
    "from PyQt5 import QtWebEngineWidgets\n",
    "import plotly.io as pio\n",
    "import plotly.offline as offplt\n",
    "import plotly.graph_objs as go\n",
    "\n",
    "\n",
    "class PlotlyViewer(QtWebEngineWidgets.QWebEngineView):\n",
    "    def __init__(self, fig, exec=True):\n",
    "        # Create a QApplication instance or use the existing one if it exists\n",
    "        self.app = QApplication.instance() if QApplication.instance() else QApplication(sys.argv)\n",
    "\n",
    "        super().__init__()\n",
    "\n",
    "        self.file_path = os.path.abspath(os.path.join(os.path.dirname(__file__), \"temp.html\"))\n",
    "        html = offplt.plot(fig, output_type='', auto_open=False, include_plotlyjs=\"True\")\n",
    "        print(html)\n",
    "        self.setHtml(html)\n",
    "        self.setWindowTitle(\"Plotly Viewer\")\n",
    "        self.show()\n",
    "\n",
    "        if exec:\n",
    "            self.app.exec_()\n",
    "\n",
    "    def closeEvent(self, event):\n",
    "        os.remove(self.file_path)\n",
    "\n",
    "\n",
    "# Or a custom external renderer\n",
    "class MyExternalRenderer(pio.base_renderers.ExternalRenderer):\n",
    "    def activate(self):\n",
    "        pass\n",
    "\n",
    "    def render(self, fig_dict):\n",
    "        for key, fig in fig_dict.items():\n",
    "            win = PlotlyViewer(fig)\n",
    "\n",
    "\n",
    "# Register for use by name\n",
    "my_renderer = MyExternalRenderer()\n",
    "pio.renderers['my_renderer'] = my_renderer\n",
    "\n",
    "fig = go.Figure()\n",
    "fig.add_scatter(x=np.random.rand(100), y=np.random.rand(100), mode='markers',\n",
    "                marker={'size': 30, 'color': np.random.rand(100), 'opacity': 0.6,\n",
    "                        'colorscale': 'Viridis'})\n",
    "fig.show(renderer='my_renderer')"
   ]
  }
 ],
 "metadata": {
  "kernelspec": {
   "display_name": "Python 3",
   "language": "python",
   "name": "python3"
  },
  "language_info": {
   "codemirror_mode": {
    "name": "ipython",
    "version": 3
   },
   "file_extension": ".py",
   "mimetype": "text/x-python",
   "name": "python",
   "nbconvert_exporter": "python",
   "pygments_lexer": "ipython3",
   "version": "3.7.3"
  }
 },
 "nbformat": 4,
 "nbformat_minor": 2
}
