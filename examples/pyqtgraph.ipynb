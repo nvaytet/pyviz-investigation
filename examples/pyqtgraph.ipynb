{
 "cells": [
  {
   "cell_type": "markdown",
   "metadata": {},
   "source": [
    "# PyQtGraph examples"
   ]
  },
  {
   "cell_type": "code",
   "execution_count": null,
   "metadata": {},
   "outputs": [],
   "source": [
    "from pyqtgraph.Qt import QtGui\n",
    "import pyqtgraph as pg\n",
    "import numpy as np\n",
    "import pyqtgraph.opengl as gl"
   ]
  },
  {
   "cell_type": "code",
   "execution_count": null,
   "metadata": {},
   "outputs": [],
   "source": [
    "%gui qt"
   ]
  },
  {
   "cell_type": "code",
   "execution_count": null,
   "metadata": {},
   "outputs": [],
   "source": [
    "pg.setConfigOption('background','w')\n",
    "pg.setConfigOption('foreground','k')"
   ]
  },
  {
   "cell_type": "markdown",
   "metadata": {},
   "source": [
    "## A simple 1D line plot with error bars"
   ]
  },
  {
   "cell_type": "code",
   "execution_count": null,
   "metadata": {},
   "outputs": [],
   "source": [
    "win = pg.GraphicsLayoutWidget()\n",
    "plt = win.addPlot(title=\"A 1D line plot\")\n",
    " \n",
    "N = 50\n",
    "x = np.arange(N)\n",
    "y = np.random.rand(N)\n",
    "e = 0.1*np.random.rand(N)\n",
    "err = pg.ErrorBarItem(x=x, y=y, height=e, beam=0.5)\n",
    "plt.addItem(err)\n",
    " \n",
    "plt.plot(x, y)\n",
    " \n",
    "plt.setLabel('left','A fancy y label', units='kg')\n",
    "plt.setLabel('bottom', 'Some x label', units='m')\n",
    " \n",
    "win.show()"
   ]
  },
  {
   "cell_type": "markdown",
   "metadata": {},
   "source": [
    "## 1D histogram plot with error bars"
   ]
  },
  {
   "cell_type": "code",
   "execution_count": null,
   "metadata": {},
   "outputs": [],
   "source": [
    "win = pg.GraphicsLayoutWidget()\n",
    "plt = win.addPlot(title=\"A 1D histogram plot\")\n",
    " \n",
    "N = 50\n",
    "vals = np.hstack([np.random.normal(size=500),\n",
    "    np.random.normal(size=500, loc=4)])\n",
    "y,x = np.histogram(vals,\n",
    "    bins=np.linspace(-3,8,N))\n",
    " \n",
    "plt.plot(x, y, stepMode=True,\n",
    "    fillLevel=0, brush=(0,0,255,150))\n",
    " \n",
    "plt.setLabel('left','A fancy y label',\n",
    "            units='kg')\n",
    "plt.setLabel('bottom', 'Some x label',\n",
    "            units='m')\n",
    "win.show()"
   ]
  },
  {
   "cell_type": "markdown",
   "metadata": {},
   "source": [
    "## 2D image/heatmap with uniformly sized pixels"
   ]
  },
  {
   "cell_type": "code",
   "execution_count": null,
   "metadata": {},
   "outputs": [],
   "source": [
    "N = 100\n",
    "M = 50\n",
    "z = np.random.rand(M, N).astype(np.float64)\n",
    " \n",
    "win = pg.GraphicsLayoutWidget()\n",
    "win.setWindowTitle('pyqtgraph example: Image Analysis')\n",
    " \n",
    "# A plot area (ViewBox + axes) for displaying the image\n",
    "p1 = win.addPlot()\n",
    "# Item for displaying image data\n",
    "img = pg.ImageItem()\n",
    "p1.addItem(img)\n",
    "img.setImage(z.T)\n",
    "# Image viewer\n",
    "hist = pg.HistogramLUTItem()\n",
    "hist.setImageItem(img)\n",
    "win.addItem(hist)\n",
    " \n",
    "p1.setLabel('bottom', 'x coordinate')\n",
    "p1.setLabel('left','y coordinate')\n",
    " \n",
    "win.show()"
   ]
  },
  {
   "cell_type": "markdown",
   "metadata": {},
   "source": [
    "## 2D filled contour plot"
   ]
  },
  {
   "cell_type": "code",
   "execution_count": null,
   "metadata": {},
   "outputs": [],
   "source": [
    "# This appears to not be possible with pyqtgraph"
   ]
  },
  {
   "cell_type": "markdown",
   "metadata": {},
   "source": [
    "## 2D image/heatmap with non-uniformly sized pixels"
   ]
  },
  {
   "cell_type": "code",
   "execution_count": null,
   "metadata": {},
   "outputs": [],
   "source": [
    "# This is not easily achievable, one has to draw each pixel as a separate rectangle"
   ]
  },
  {
   "cell_type": "markdown",
   "metadata": {},
   "source": [
    "## 2D scatter plot with different symbol sizes"
   ]
  },
  {
   "cell_type": "code",
   "execution_count": null,
   "metadata": {},
   "outputs": [],
   "source": [
    "win = pg.GraphicsLayoutWidget()\n",
    "win.setWindowTitle('pyqtgraph example: Image Analysis')\n",
    "N = 100\n",
    "p1 = win.addPlot()\n",
    "s2 = pg.ScatterPlotItem(size=10, pen=pg.mkPen('w'), pxMode=True)\n",
    "pos = np.random.rand(2, N)\n",
    "size = 50.0*np.random.rand(N)\n",
    "spots = [{'pos': pos[:,i], 'data': 1, 'brush':pg.intColor(i, N), 'size': size[i]} for i in range(n)]\n",
    "s2.addPoints(spots)\n",
    "p1.addItem(s2)\n",
    "\n",
    "win.show()"
   ]
  },
  {
   "cell_type": "markdown",
   "metadata": {},
   "source": [
    "## 2D heatmap with slider through 3D data cube"
   ]
  },
  {
   "cell_type": "code",
   "execution_count": null,
   "metadata": {},
   "outputs": [],
   "source": [
    "win = pg.GraphicsLayoutWidget()\n",
    "win.setWindowTitle('pyqtgraph example: Image Analysis')\n",
    "win.show()\n",
    "\n",
    "a = 10.0 * np.random.rand(10, 10, 10)\n",
    "\n",
    "# A plot area (ViewBox + axes) for displaying the image\n",
    "p1 = win.addPlot()\n",
    "\n",
    "# Item for displaying image data\n",
    "img = pg.ImageItem()\n",
    "p1.addItem(img)\n",
    "\n",
    "# Contrast/color control\n",
    "hist = pg.HistogramLUTItem()\n",
    "hist.setImageItem(img)\n",
    "win.addItem(hist)\n",
    "\n",
    "# Draggable line for slicing through cube\n",
    "isoLine = pg.InfiniteLine(angle=0, movable=True, pen='g')\n",
    "hist.vb.addItem(isoLine)\n",
    "hist.vb.setMouseEnabled(y=False) # makes user interaction a little easier\n",
    "isoLine.setValue(0)\n",
    "isoLine.setZValue(1000) # bring iso line above contrast controls\n",
    "\n",
    "# Set image data\n",
    "data = a[:, :, 0]\n",
    "img.setImage(data)\n",
    "hist.setLevels(data.min(), data.max())\n",
    "\n",
    "# set position and scale of image\n",
    "img.scale(0.2, 0.2)\n",
    "img.translate(-50, 0)\n",
    "\n",
    "# zoom to fit imageo\n",
    "p1.autoRange() \n",
    "\n",
    "# Callback for handling user interaction\n",
    "def updatePlot():\n",
    "    global img, isoLine, a\n",
    "    data = a[:, :, int(isoLine.value())]\n",
    "    img.setImage(data)\n",
    "isoLine.sigDragged.connect(updatePlot)"
   ]
  },
  {
   "cell_type": "markdown",
   "metadata": {},
   "source": [
    "## 3D line plot"
   ]
  },
  {
   "cell_type": "code",
   "execution_count": null,
   "metadata": {},
   "outputs": [],
   "source": [
    "w = gl.GLViewWidget()\n",
    "w.opts['distance'] = 40\n",
    "w.show()\n",
    "w.setWindowTitle('pyqtgraph example: GLLinePlotItem')\n",
    "\n",
    "gx = gl.GLGridItem()\n",
    "gx.rotate(90, 0, 1, 0)\n",
    "gx.translate(-10, 0, 0)\n",
    "w.addItem(gx)\n",
    "gy = gl.GLGridItem()\n",
    "gy.rotate(90, 1, 0, 0)\n",
    "gy.translate(0, -10, 0)\n",
    "w.addItem(gy)\n",
    "gz = gl.GLGridItem()\n",
    "gz.translate(0, 0, -10)\n",
    "w.addItem(gz)\n",
    "\n",
    "N = 100\n",
    "M = 10\n",
    "xx = np.arange(N, dtype=np.float64)\n",
    "yy = np.arange(M, dtype=np.float64)\n",
    "x, y = np.meshgrid(xx, yy)\n",
    "b = M/2.0\n",
    "c = N/2.0\n",
    "r = np.sqrt(((x-c)/b)**2 + ((y-c)/b)**2)\n",
    "z = np.sin(r)\n",
    "\n",
    "for i in range(M):\n",
    "    pts = np.vstack([0.1*xx,[i]*N,z[i, :]]).transpose()\n",
    "    plt = gl.GLLinePlotItem(pos=pts, color=pg.glColor((i,M*1.3)), width=5., antialias=True)\n",
    "    w.addItem(plt)"
   ]
  },
  {
   "cell_type": "markdown",
   "metadata": {},
   "source": [
    "## 3D scatter plot"
   ]
  },
  {
   "cell_type": "code",
   "execution_count": null,
   "metadata": {
    "scrolled": false
   },
   "outputs": [],
   "source": [
    "w = gl.GLViewWidget()\n",
    "w.opts['distance'] = 40\n",
    "w.show()\n",
    "w.setWindowTitle('pyqtgraph example: Scatter 3D')\n",
    "\n",
    "gx = gl.GLGridItem()\n",
    "gx.rotate(90, 0, 1, 0)\n",
    "gx.translate(-10, 0, 0)\n",
    "w.addItem(gx)\n",
    "gy = gl.GLGridItem()\n",
    "gy.rotate(90, 1, 0, 0)\n",
    "gy.translate(0, -10, 0)\n",
    "w.addItem(gy)\n",
    "gz = gl.GLGridItem()\n",
    "gz.translate(0, 0, -10)\n",
    "w.addItem(gz)\n",
    "\n",
    "N = 100\n",
    "x = 10.0*np.random.rand(N).astype(np.float64)\n",
    "y = 10.0*np.random.rand(N).astype(np.float64)\n",
    "z = 10.0*np.random.rand(N).astype(np.float64)\n",
    "s = np.random.rand(N).astype(np.float64)\n",
    "c = np.random.rand(N, 4)\n",
    "pos = np.transpose([x, y, z])\n",
    "sp1 = gl.GLScatterPlotItem(pos=pos, size=s, color=c, pxMode=False)\n",
    "w.addItem(sp1)"
   ]
  },
  {
   "cell_type": "markdown",
   "metadata": {},
   "source": [
    "## 3d surface"
   ]
  },
  {
   "cell_type": "code",
   "execution_count": null,
   "metadata": {},
   "outputs": [],
   "source": [
    "w = gl.GLViewWidget()\n",
    "w.show()\n",
    "w.setWindowTitle('pyqtgraph example: GLSurfacePlot')\n",
    "w.setCameraPosition(distance=50)\n",
    " \n",
    "nx = 100\n",
    "ny = 50\n",
    " \n",
    "## Add a grid to the view\n",
    "g = gl.GLGridItem(size=QtGui.QVector3D(nx,ny,1))\n",
    "# g.scale(nx,5,1)\n",
    "g.setDepthValue(10)  # draw grid after surfaces since they may be translucent\n",
    "w.addItem(g)\n",
    " \n",
    " \n",
    "## Simple surface plot example\n",
    "## x, y values are not specified, so assumed to be 0:50\n",
    "z = 10.0 * pg.gaussianFilter(np.random.normal(size=(nx,ny)), (1,1))\n",
    "p1 = gl.GLSurfacePlotItem(z=z, shader='shaded', color=(0.5, 0.5, 1, 1))\n",
    "# p1.scale(16./49., 16./49., 1.0)\n",
    "p1.translate(-nx/2.0, -ny/2.0, 0)\n",
    "w.addItem(p1)"
   ]
  },
  {
   "cell_type": "markdown",
   "metadata": {},
   "source": [
    "## 3D slicer"
   ]
  },
  {
   "cell_type": "code",
   "execution_count": null,
   "metadata": {},
   "outputs": [],
   "source": [
    "from PyQt5 import QtGui, QtCore\n",
    "import pyqtgraph as pg\n",
    "import pyqtgraph.opengl as gl\n",
    "import numpy as np\n",
    "import sys\n",
    " \n",
    "# Always start by initializing Qt (only once per application)\n",
    "app = QtGui.QApplication([])\n",
    " \n",
    "# Define a top-level widget to hold everything\n",
    "w = QtGui.QWidget()\n",
    "w.resize(1000,600)\n",
    "w.setWindowTitle('3D slice viewer')\n",
    " \n",
    "# Box with slider\n",
    "sliderbox = QtGui.QGroupBox()\n",
    "hBoxLayout = QtGui.QHBoxLayout()\n",
    "psi_slider_layout = QtGui.QVBoxLayout()\n",
    " \n",
    "# Data volume\n",
    "nx = 100\n",
    "ny = 50\n",
    "nz = 50\n",
    " \n",
    "x = np.arange(nx, dtype=np.float64)\n",
    "y = np.arange(ny, dtype=np.float64)\n",
    "z = np.arange(nz, dtype=np.float64)\n",
    " \n",
    "xx, yy, zz = np.meshgrid(x, y, z, indexing=\"ij\")\n",
    "b = nx/20.0\n",
    "c = ny/2.0\n",
    "d = nz/2.0\n",
    "r = np.sqrt(((xx-c)/b)**2 + ((yy-c)/b)**2 + ((zz-d)/b)**2)\n",
    "a = np.sin(r)\n",
    " \n",
    " \n",
    "# Create openGL view widget & draw data outline\n",
    "wGL = gl.GLViewWidget()\n",
    "wGL.setSizePolicy(QtGui.QSizePolicy.Expanding, QtGui.QSizePolicy.Expanding)\n",
    "wGL.opts['distance'] = np.amax([nx, ny, nz])\n",
    " \n",
    "# 4 rectangles for outline\n",
    "gr1 = gl.GLGridItem(size=QtGui.QVector3D(1,1,1), color=(1,1,1,1))\n",
    "gr1.scale(nx, ny, 1)\n",
    "gr1.translate(nx/2.0, ny/2.0, 0)\n",
    "wGL.addItem(gr1)\n",
    " \n",
    "gr2 = gl.GLGridItem(size=QtGui.QVector3D(1,1,1), color=(1,1,1,1))\n",
    "gr2.scale(nx, ny, 1)\n",
    "gr2.translate(nx/2.0, ny/2.0, nz)\n",
    "wGL.addItem(gr2)\n",
    " \n",
    "gr3 = gl.GLGridItem(size=QtGui.QVector3D(1,1,1), color=(1,1,1,1))\n",
    "gr3.scale(nx, nz, 1)\n",
    "gr3.rotate(90, 1, 0, 0)\n",
    "gr3.translate(nx/2.0, 0, nz/2.0)\n",
    "wGL.addItem(gr3)\n",
    " \n",
    "gr4 = gl.GLGridItem(size=QtGui.QVector3D(1,1,1), color=(1,1,1,1))\n",
    "gr4.scale(nx, nz, 1)\n",
    "gr4.rotate(90, 1, 0, 0)\n",
    "gr4.translate(nx/2.0, ny, nz/2.0)\n",
    "wGL.addItem(gr4)\n",
    " \n",
    " \n",
    "# Define surface colors\n",
    "colors = np.ones([nx,ny,4], dtype=np.float64)\n",
    "colors[...,0] = a[..., 0]\n",
    "colors[...,1] = colors[...,0]\n",
    "# Add the surface plot item\n",
    "p3 = gl.GLSurfacePlotItem(z=np.zeros([nx, ny]), colors=colors.reshape(nx*ny,4),\n",
    "    shader='shaded', smooth=False)\n",
    "wGL.addItem(p3)\n",
    " \n",
    " \n",
    "# Create a slider\n",
    "psi_label = QtGui.QLabel(\"Z\")\n",
    "psi_slider = QtGui.QSlider()\n",
    "psi_slider.setOrientation(QtCore.Qt.Vertical)\n",
    "psi_slider.setMinimum(0)\n",
    "psi_slider.setMaximum(nz-1)\n",
    "psi_slider.setValue(0)\n",
    "psi_value = QtGui.QLabel(str(psi_slider.value()) + \"m\")\n",
    "psi_slider_layout.addWidget(psi_label)\n",
    "psi_slider_layout.addWidget(psi_slider)\n",
    "psi_slider_layout.addWidget(psi_value)\n",
    " \n",
    "# Set layout of box containing sliders\n",
    "hBoxLayout.addItem(psi_slider_layout)\n",
    "# hBoxLayout.addItem(delta_slider_layout)\n",
    "sliderbox.setLayout(hBoxLayout)\n",
    " \n",
    "# Create a grid layout to manage the widgets size and position\n",
    "layout = QtGui.QGridLayout()\n",
    "w.setLayout(layout)\n",
    "# layout.setColumnStretch (1, 2)\n",
    " \n",
    "## Add widgets to the layout in their proper positions\n",
    "# layout.addWidget(heading_text, 0, 0)   # heading text goes in upper-left\n",
    "layout.addWidget(sliderbox, 0, 0)   # slider box goes underneath heading text\n",
    "layout.addWidget(wGL, 0, 1, 1, 1)  # wGL goes on right side, spanning 1 row\n",
    " \n",
    "# Function to update the position and colors of the slice\n",
    "def set_psi_value(value):\n",
    "    global psi_slider, p3, nx, ny, a\n",
    "    psi_value.setText(str(value) + \"m\")\n",
    "    z = np.ones([nx,ny]) * value #psi_slider.value()\n",
    "    colors = np.ones([nx,ny,4], dtype=np.float64)\n",
    "    colors[...,0] = a[..., value]\n",
    "    colors[...,1] = colors[...,0]\n",
    "    p3.setData(z=z, colors=colors.reshape(nx*ny,4))\n",
    "# Add callback to the function\n",
    "psi_slider.valueChanged.connect(set_psi_value)\n",
    " \n",
    "# Display the widget as a new window\n",
    "w.show()\n",
    "app.exec_()"
   ]
  }
 ],
 "metadata": {
  "kernelspec": {
   "display_name": "Python 3",
   "language": "python",
   "name": "python3"
  },
  "language_info": {
   "codemirror_mode": {
    "name": "ipython",
    "version": 3
   },
   "file_extension": ".py",
   "mimetype": "text/x-python",
   "name": "python",
   "nbconvert_exporter": "python",
   "pygments_lexer": "ipython3",
   "version": "3.7.3"
  }
 },
 "nbformat": 4,
 "nbformat_minor": 2
}
