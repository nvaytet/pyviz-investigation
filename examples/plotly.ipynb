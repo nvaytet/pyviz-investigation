{
 "cells": [
  {
   "cell_type": "markdown",
   "metadata": {},
   "source": [
    "# Plotly examples"
   ]
  },
  {
   "cell_type": "code",
   "execution_count": null,
   "metadata": {},
   "outputs": [],
   "source": [
    "import numpy as np\n",
    "import plotly.graph_objs as go"
   ]
  },
  {
   "cell_type": "code",
   "execution_count": null,
   "metadata": {},
   "outputs": [],
   "source": [
    "from plotly.subplots import make_subplots\n",
    "\n",
    "N = 50\n",
    "x = np.arange(N)\n",
    "y = np.arange(N)\n",
    "z = np.random.rand(N, N)\n",
    "\n",
    "fig = make_subplots(rows=2, cols=2)\n",
    "\n",
    "fig.add_trace(go.Scatter(x=x, y=z[:, 0]), row=1, col=1)\n",
    "\n",
    "fig.add_trace(go.Histogram(x=z[:, 0], xbins={\"size\": 0.05}), row=1, col=2)\n",
    "\n",
    "fig.add_trace(go.Heatmap(z=z, showscale=False), row=2, col=1)\n",
    "\n",
    "fig.add_trace(go.Scatter(x=z[:, 0], y=z[:, 1], mode='markers',\n",
    "    marker={\"color\": z[:, 2]}), row=2, col=2)\n",
    "\n",
    "fig.show()"
   ]
  },
  {
   "cell_type": "markdown",
   "metadata": {},
   "source": [
    "## 1. Scrolling with the mouse through the 3rd dimension of a 3D data cube\n",
    "\n",
    "https://matplotlib.org/examples/pylab_examples/image_slices_viewer.html"
   ]
  },
  {
   "cell_type": "code",
   "execution_count": null,
   "metadata": {},
   "outputs": [],
   "source": [
    "class IndexTracker(object):\n",
    "    def __init__(self, ax, X):\n",
    "        self.ax = ax\n",
    "        ax.set_title('use scroll wheel to navigate images')\n",
    "\n",
    "        self.X = X\n",
    "        rows, cols, self.slices = X.shape\n",
    "        self.ind = self.slices//2\n",
    "\n",
    "        self.im = ax.imshow(self.X[:, :, self.ind])\n",
    "        self.update()\n",
    "\n",
    "    def onscroll(self, event):\n",
    "        print(\"%s %s\" % (event.button, event.step))\n",
    "        if event.button == 'up':\n",
    "            self.ind = np.clip(self.ind + 1, 0, self.slices - 1)\n",
    "        else:\n",
    "            self.ind = np.clip(self.ind - 1, 0, self.slices - 1)\n",
    "        self.update()\n",
    "\n",
    "    def update(self):\n",
    "        self.im.set_data(self.X[:, :, self.ind])\n",
    "        ax.set_ylabel('slice %s' % self.ind)\n",
    "        self.im.axes.figure.canvas.draw()\n",
    "\n",
    "\n",
    "fig, ax = plt.subplots(1, 1)\n",
    "\n",
    "X = np.random.rand(20, 20, 40)\n",
    "\n",
    "tracker = IndexTracker(ax, X)\n",
    "\n",
    "\n",
    "fig.canvas.mpl_connect('scroll_event', tracker.onscroll)\n",
    "plt.show()"
   ]
  },
  {
   "cell_type": "markdown",
   "metadata": {},
   "source": [
    "## 2. Click on a legend item to hide/show the corresponding line\n",
    "\n",
    "https://matplotlib.org/examples/event_handling/legend_picking.html"
   ]
  },
  {
   "cell_type": "markdown",
   "metadata": {},
   "source": [
    "<a id='plotly_in_qt'></a>\n",
    "## Embed plotly graph in Qt window"
   ]
  },
  {
   "cell_type": "code",
   "execution_count": null,
   "metadata": {},
   "outputs": [],
   "source": [
    "import os, sys\n",
    "from PyQt5.QtWidgets import QApplication\n",
    "from PyQt5.QtCore import QUrl\n",
    "from PyQt5 import QtWebEngineWidgets\n",
    "import plotly.io as pio\n",
    "import plotly.offline as offplt\n",
    "import plotly.graph_objs as go\n",
    "\n",
    "\n",
    "class PlotlyViewer(QtWebEngineWidgets.QWebEngineView):\n",
    "    def __init__(self, fig, exec=True):\n",
    "        # Create a QApplication instance or use the existing one if it exists\n",
    "        self.app = QApplication.instance() if QApplication.instance() else QApplication(sys.argv)\n",
    "\n",
    "        super().__init__()\n",
    "\n",
    "        self.file_path = os.path.abspath(os.path.join(os.path.dirname(__file__), \"temp.html\"))\n",
    "        html = offplt.plot(fig, output_type='', auto_open=False, include_plotlyjs=\"True\")\n",
    "        print(html)\n",
    "        self.setHtml(html)\n",
    "        self.setWindowTitle(\"Plotly Viewer\")\n",
    "        self.show()\n",
    "\n",
    "        if exec:\n",
    "            self.app.exec_()\n",
    "\n",
    "    def closeEvent(self, event):\n",
    "        os.remove(self.file_path)\n",
    "\n",
    "\n",
    "# Or a custom external renderer\n",
    "class MyExternalRenderer(pio.base_renderers.ExternalRenderer):\n",
    "    def activate(self):\n",
    "        pass\n",
    "\n",
    "    def render(self, fig_dict):\n",
    "        for key, fig in fig_dict.items():\n",
    "            win = PlotlyViewer(fig)\n",
    "\n",
    "\n",
    "# Register for use by name\n",
    "my_renderer = MyExternalRenderer()\n",
    "pio.renderers['my_renderer'] = my_renderer\n",
    "\n",
    "fig = go.Figure()\n",
    "fig.add_scatter(x=np.random.rand(100), y=np.random.rand(100), mode='markers',\n",
    "                marker={'size': 30, 'color': np.random.rand(100), 'opacity': 0.6,\n",
    "                        'colorscale': 'Viridis'})\n",
    "fig.show(renderer='my_renderer')"
   ]
  },
  {
   "cell_type": "code",
   "execution_count": null,
   "metadata": {},
   "outputs": [],
   "source": []
  }
 ],
 "metadata": {
  "kernelspec": {
   "display_name": "Python 3",
   "language": "python",
   "name": "python3"
  },
  "language_info": {
   "codemirror_mode": {
    "name": "ipython",
    "version": 3
   },
   "file_extension": ".py",
   "mimetype": "text/x-python",
   "name": "python",
   "nbconvert_exporter": "python",
   "pygments_lexer": "ipython3",
   "version": "3.7.3"
  }
 },
 "nbformat": 4,
 "nbformat_minor": 2
}
