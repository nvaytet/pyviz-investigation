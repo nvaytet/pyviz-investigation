{
 "cells": [
  {
   "cell_type": "markdown",
   "metadata": {},
   "source": [
    "# Plotly examples"
   ]
  },
  {
   "cell_type": "code",
   "execution_count": null,
   "metadata": {},
   "outputs": [],
   "source": [
    "import numpy as np\n",
    "import plotly.graph_objs as go"
   ]
  },
  {
   "cell_type": "markdown",
   "metadata": {},
   "source": [
    "## A simple 1D line plot with error bars"
   ]
  },
  {
   "cell_type": "code",
   "execution_count": null,
   "metadata": {},
   "outputs": [],
   "source": [
    "N = 50\n",
    "x = np.arange(N)\n",
    "y = np.random.rand(N)\n",
    "data = go.Scatter(x=x, y=y,\n",
    "                  error_y={\"type\":\"data\",\n",
    "                   \"array\":0.1*np.random.rand(N),\n",
    "                   \"visible\":True}\n",
    "                 )\n",
    "layout = {\"xaxis\": {\"title\": \"Some x label [m]\"},\n",
    "          \"yaxis\": {\"title\": \"A fancy y label [kg]\"},\n",
    "          \"title\": \"A 1D line plot\"\n",
    "}\n",
    "fig = go.Figure(data=data, layout=layout)\n",
    "fig"
   ]
  },
  {
   "cell_type": "markdown",
   "metadata": {},
   "source": [
    "## 1D histogram plot with error bars"
   ]
  },
  {
   "cell_type": "code",
   "execution_count": null,
   "metadata": {},
   "outputs": [],
   "source": [
    "N = 50\n",
    "x = np.arange(N+1)\n",
    "y = np.random.rand(N)\n",
    "e = 0.1*np.random.rand(N)\n",
    "\n",
    "data = {\"x\": x,\n",
    "        \"y\": y,\n",
    "        \"error_y\": {\"type\":\"data\",\n",
    "                    \"array\":0.1*np.random.rand(N),\n",
    "                    \"visible\":True},\n",
    "        \"type\": \"bar\",\n",
    "        \"marker\": {\"line\":{\"width\":0}},\n",
    "        \"width\": np.ediff1d(x)\n",
    "}\n",
    "\n",
    "layout = {\"xaxis\": {\"title\": \"Some x label [m]\"},\n",
    "          \"yaxis\": {\"title\": \"A fancy y label [kg]\"},\n",
    "          \"title\": \"A 1D histogram plot\"\n",
    "}\n",
    "fig = go.Figure(data=data, layout=layout)\n",
    "fig"
   ]
  },
  {
   "cell_type": "markdown",
   "metadata": {},
   "source": [
    "## 2D image/heatmap with uniformly sized pixels"
   ]
  },
  {
   "cell_type": "code",
   "execution_count": null,
   "metadata": {},
   "outputs": [],
   "source": [
    "N = 100\n",
    "M = 50\n",
    "x = np.arange(N+1)\n",
    "y = np.arange(M+1)\n",
    "z = np.random.rand(M, N).astype(np.float64)\n",
    "data = {\"type\":\"heatmap\",\n",
    "        \"x\":x,\n",
    "        \"y\":y,\n",
    "        \"z\":z,\n",
    "        \"colorscale\":\"Viridis\",\n",
    "        \"colorbar\":{\"title\":\"Counts\", \"titleside\":\"right\"}\n",
    "}\n",
    "layout = {\"xaxis\": {\"title\": \"X coordinate\"},\n",
    "          \"yaxis\": {\"title\": \"y coordinate\"},\n",
    "          \"title\": \"A 2D image\"\n",
    "}\n",
    "fig = go.Figure(data=data, layout=layout)\n",
    "fig"
   ]
  },
  {
   "cell_type": "markdown",
   "metadata": {},
   "source": [
    "## 2D filled contour plot"
   ]
  },
  {
   "cell_type": "code",
   "execution_count": null,
   "metadata": {},
   "outputs": [],
   "source": [
    "N = 100\n",
    "M = 50\n",
    "xx = np.arange(N, dtype=np.float64)\n",
    "yy = np.arange(M, dtype=np.float64)\n",
    "x, y = np.meshgrid(xx, yy)\n",
    "b = N/20.0\n",
    "c = M/2.0\n",
    "r = np.sqrt(((x-c)/b)**2 + ((y-c)/b)**2)\n",
    "z = np.sin(r)\n",
    "data = {\"type\":\"contour\",\n",
    "        \"x\":x[0,:],\n",
    "        \"y\":y[:,0],\n",
    "        \"z\":z,\n",
    "        \"colorscale\":\"Viridis\",\n",
    "        \"colorbar\":{\"title\":\"Counts\", \"titleside\":\"right\"}\n",
    "}\n",
    "layout = {\"xaxis\": {\"title\": \"x coordinate\"},\n",
    "          \"yaxis\": {\"title\": \"y coordinate\"},\n",
    "          \"title\": \"A 2D image\"\n",
    "}\n",
    "fig = go.Figure(data=data, layout=layout)\n",
    "fig"
   ]
  },
  {
   "cell_type": "markdown",
   "metadata": {},
   "source": [
    "## 2D image/heatmap with non-uniformly sized pixels"
   ]
  },
  {
   "cell_type": "code",
   "execution_count": null,
   "metadata": {},
   "outputs": [],
   "source": [
    "N = 10\n",
    "M = 5\n",
    "x = np.arange(N+1)**2\n",
    "y = np.arange(M+1)\n",
    "z = np.random.rand(M, N).astype(np.float64)\n",
    "data = {\"type\":\"heatmap\",\n",
    "        \"x\":x,\n",
    "        \"y\":y,\n",
    "        \"z\":z,\n",
    "        \"colorscale\":\"Viridis\",\n",
    "        \"colorbar\":{\"title\":\"Counts\", \"titleside\":\"right\"}\n",
    "}\n",
    "layout = {\"xaxis\": {\"title\": \"x coordinate\"},\n",
    "          \"yaxis\": {\"title\": \"y coordinate\"},\n",
    "          \"title\": \"A 2D image with non-equal sized pixels\"\n",
    "}\n",
    "fig = go.Figure(data=data, layout=layout)\n",
    "fig"
   ]
  },
  {
   "cell_type": "markdown",
   "metadata": {},
   "source": [
    "## 2D scatter plot with different symbol sizes"
   ]
  },
  {
   "cell_type": "code",
   "execution_count": null,
   "metadata": {},
   "outputs": [],
   "source": [
    "N = 100\n",
    "x = np.random.rand(N).astype(np.float64)\n",
    "y = np.random.rand(N).astype(np.float64)\n",
    "z = np.random.rand(N).astype(np.float64)\n",
    "s = 50.0*np.random.rand(N).astype(np.float64)\n",
    "data = {\"type\":\"scatter\",\n",
    "        \"x\":x,\n",
    "        \"y\":y,\n",
    "        \"mode\":\"markers\",\n",
    "        \"marker\":{\"size\":s,\n",
    "                  \"color\":z,\n",
    "                  \"colorscale\":'Jet',\n",
    "                  \"showscale\":True,\n",
    "                  \"colorbar\":{\"title\":\"Counts\",\n",
    "                              \"titleside\":\"right\"}\n",
    "                 }\n",
    "}\n",
    "layout = {\"xaxis\": {\"title\": \"x coordinate\"},\n",
    "          \"yaxis\": {\"title\": \"y coordinate\"},\n",
    "          \"title\": \"A 2D scatter plot\"\n",
    "}\n",
    "fig = go.Figure(data=data, layout=layout)\n",
    "fig"
   ]
  },
  {
   "cell_type": "markdown",
   "metadata": {},
   "source": [
    "## 2D heatmap with slider through 3D data cube"
   ]
  },
  {
   "cell_type": "code",
   "execution_count": null,
   "metadata": {
    "scrolled": false
   },
   "outputs": [],
   "source": [
    "from ipywidgets import VBox, IntSlider\n",
    " \n",
    "z = np.random.rand(10, 10, 10)\n",
    "idx = 0\n",
    "\n",
    "data = {\"type\":\"heatmap\",\n",
    "        \"z\":z[:,:,idx],\n",
    "        \"colorscale\":\"Viridis\",\n",
    "        \"colorbar\":{\"title\":\"Counts\", \"titleside\":\"right\"}\n",
    "}\n",
    "layout = {\"xaxis\": {\"title\": \"x coordinate\"},\n",
    "          \"yaxis\": {\"title\": \"y coordinate\"},\n",
    "          \"title\": \"A 2D image with non-equal sized pixels\"\n",
    "}\n",
    "fig = go.FigureWidget(data=data, layout=layout)\n",
    "\n",
    "slider = IntSlider(value=idx, min=0, max=10, step=1,\n",
    "                   description=\"Slice index\",\n",
    "                   continuous_update=True,\n",
    "                   readout=True)\n",
    "\n",
    "def update_depth(val):\n",
    "    idx = val[\"new\"]\n",
    "    fig.data[0].z = z[:, :, idx]\n",
    "\n",
    "slider.observe(update_depth, names=\"value\")\n",
    "\n",
    "box = VBox([fig, slider])\n",
    "box"
   ]
  },
  {
   "cell_type": "markdown",
   "metadata": {},
   "source": [
    "## 3D line plot"
   ]
  },
  {
   "cell_type": "code",
   "execution_count": null,
   "metadata": {
    "scrolled": false
   },
   "outputs": [],
   "source": [
    "N = 100\n",
    "M = 10\n",
    "xx = np.arange(N, dtype=np.float64)\n",
    "yy = np.arange(M, dtype=np.float64)\n",
    "x, y = np.meshgrid(xx, yy)\n",
    "b = M/2.0\n",
    "c = N/2.0\n",
    "r = np.sqrt(((x-c)/b)**2 + ((y-c)/b)**2)\n",
    "z = np.sin(r)\n",
    "\n",
    "layout = {\"title\": \"A 3D scatter plot\"}\n",
    "\n",
    "trace = []\n",
    "for i in range(M):\n",
    "    trace.append(go.Scatter3d(x=xx, y=[i]*N, z=z[i, :], mode='lines', line={\"width\":4}))\n",
    "\n",
    "fig = go.Figure(data=trace, layout=layout)\n",
    "fig.update_layout(scene=dict(\n",
    "    xaxis_title=\"X coord\",\n",
    "    yaxis_title=\"Y coord\",\n",
    "    zaxis_title=\"Z coord\"))\n",
    "fig"
   ]
  },
  {
   "cell_type": "markdown",
   "metadata": {},
   "source": [
    "## 3D scatter plot"
   ]
  },
  {
   "cell_type": "code",
   "execution_count": null,
   "metadata": {},
   "outputs": [],
   "source": [
    "N = 100\n",
    "x = np.random.rand(N).astype(np.float64)\n",
    "y = np.random.rand(N).astype(np.float64)\n",
    "z = np.random.rand(N).astype(np.float64)\n",
    "s = 30.0*np.random.rand(N).astype(np.float64)\n",
    "c = np.abs(z)\n",
    "trace = go.Scatter3d(x=x, y=y, z=z,\n",
    "                     mode=\"markers\",\n",
    "                     marker={\"size\":s,\n",
    "                               \"color\":z,\n",
    "                               \"colorscale\":'Jet',\n",
    "                               \"showscale\":True,\n",
    "                               \"colorbar\":{\"title\":\"Counts\",\n",
    "                                           \"titleside\":\"right\"}\n",
    "                              }\n",
    "                    )\n",
    "\n",
    "fig = go.Figure(data=trace)\n",
    "fig.update_layout(scene=dict(\n",
    "    xaxis_title=\"X coord\",\n",
    "    yaxis_title=\"Y coord\",\n",
    "    zaxis_title=\"Z coord\"))\n",
    "fig"
   ]
  },
  {
   "cell_type": "markdown",
   "metadata": {},
   "source": [
    "## 3d surface"
   ]
  },
  {
   "cell_type": "code",
   "execution_count": null,
   "metadata": {},
   "outputs": [],
   "source": [
    "X = np.arange(-5, 5, 0.25)\n",
    "Y = np.arange(-5, 5, 0.25)\n",
    "X, Y = np.meshgrid(X, Y)\n",
    "R = np.sqrt(X**2 + Y**2)\n",
    "Z = np.sin(R)\n",
    "\n",
    "surf = go.Surface(x=X, y=Y, z=Z)\n",
    "\n",
    "fig = go.Figure(data=surf)\n",
    "fig.update_layout(scene=dict(\n",
    "    xaxis_title=\"X coord\",\n",
    "    yaxis_title=\"Y coord\",\n",
    "    zaxis_title=\"Z coord\"))\n",
    "fig"
   ]
  },
  {
   "cell_type": "markdown",
   "metadata": {},
   "source": [
    "## 3D slicer"
   ]
  },
  {
   "cell_type": "code",
   "execution_count": null,
   "metadata": {},
   "outputs": [],
   "source": [
    "from matplotlib.widgets import Slider\n",
    "\n",
    "N = 50\n",
    "M = 40\n",
    "L = 30\n",
    "xx = np.arange(N, dtype=np.float64)\n",
    "yy = np.arange(M, dtype=np.float64)\n",
    "zz = np.arange(L, dtype=np.float64)\n",
    "x, y, z = np.meshgrid(xx, yy, zz, indexing='ij')\n",
    "b = N/20.0\n",
    "c = M/2.0\n",
    "d = L/2.0\n",
    "r = np.sqrt(((x-c)/b)**2 + ((y-c)/b)**2 + ((z-d)/b)**2)\n",
    "a = np.sin(r)\n",
    "X, Y = np.meshgrid(xx, yy, indexing='ij')\n",
    "\n",
    "fig = plt.figure()\n",
    "ax = fig.add_subplot(111, projection='3d')\n",
    "fig.subplots_adjust(bottom=0.15)\n",
    "\n",
    "color_dimension = a[:,:,idx] # change to desired fourth dimension\n",
    "minn, maxx = color_dimension.min(), color_dimension.max()\n",
    "from matplotlib.colors import Normalize\n",
    "norm = Normalize(minn, maxx)\n",
    "m = plt.cm.ScalarMappable(norm=norm, cmap='viridis')\n",
    "m.set_array([])\n",
    "fcolors = m.to_rgba(color_dimension)\n",
    "\n",
    "# im_h = ax.imshow(data[:, :, idx], interpolation='nearest')\n",
    "surf = ax.plot_surface(X, Y, np.zeros_like(X), linewidth=0, antialiased=False, facecolors=fcolors)\n",
    "\n",
    "ax.set_xlabel(\"x coordinate\")\n",
    "ax.set_ylabel(\"y coordinate\")\n",
    "ax.set_title(\"3D slicer\")\n",
    "ax.set_zlim([0, L])\n",
    "cb = plt.colorbar(surf)\n",
    "cb.ax.set_ylabel(\"Counts\")\n",
    "\n",
    "ax_depth = plt.axes([0.23, 0.02, 0.56, 0.04])\n",
    "slider_depth = Slider(ax_depth,\n",
    "    'depth',\n",
    "    0,\n",
    "    L-1,\n",
    "    valinit=idx)\n",
    "\n",
    "def update_depth(val):\n",
    "    idx = int(round(slider_depth.val))\n",
    "    fcolors = m.to_rgba(a[:,:,idx])\n",
    "#     surf.set_verts() # Could not get the slider to work\n",
    "  \n",
    "slider_depth.on_changed(update_depth)\n",
    "  \n",
    "plt.show()"
   ]
  },
  {
   "cell_type": "markdown",
   "metadata": {},
   "source": [
    "## Additional examples\n",
    "<a id='interactive_examples'></a>\n",
    "### Interactive 1: Scrolling with the mouse through the 3rd dimension of a 3D data cube\n",
    "\n",
    "Source: https://matplotlib.org/examples/pylab_examples/image_slices_viewer.html"
   ]
  },
  {
   "cell_type": "code",
   "execution_count": null,
   "metadata": {},
   "outputs": [],
   "source": [
    "class IndexTracker(object):\n",
    "    def __init__(self, ax, X):\n",
    "        self.ax = ax\n",
    "        ax.set_title('use scroll wheel to navigate images')\n",
    "\n",
    "        self.X = X\n",
    "        rows, cols, self.slices = X.shape\n",
    "        self.ind = self.slices//2\n",
    "\n",
    "        self.im = ax.imshow(self.X[:, :, self.ind])\n",
    "        self.update()\n",
    "\n",
    "    def onscroll(self, event):\n",
    "        print(\"%s %s\" % (event.button, event.step))\n",
    "        if event.button == 'up':\n",
    "            self.ind = np.clip(self.ind + 1, 0, self.slices - 1)\n",
    "        else:\n",
    "            self.ind = np.clip(self.ind - 1, 0, self.slices - 1)\n",
    "        self.update()\n",
    "\n",
    "    def update(self):\n",
    "        self.im.set_data(self.X[:, :, self.ind])\n",
    "        ax.set_ylabel('slice %s' % self.ind)\n",
    "        self.im.axes.figure.canvas.draw()\n",
    "\n",
    "\n",
    "fig, ax = plt.subplots(1, 1)\n",
    "\n",
    "X = np.random.rand(20, 20, 40)\n",
    "\n",
    "tracker = IndexTracker(ax, X)\n",
    "\n",
    "\n",
    "fig.canvas.mpl_connect('scroll_event', tracker.onscroll)\n",
    "plt.show()"
   ]
  },
  {
   "cell_type": "markdown",
   "metadata": {},
   "source": [
    "## Interactive 2: Click on a legend item to hide/show the corresponding line\n",
    "\n",
    "Source: https://matplotlib.org/examples/event_handling/legend_picking.html"
   ]
  },
  {
   "cell_type": "code",
   "execution_count": null,
   "metadata": {},
   "outputs": [],
   "source": [
    "t = np.arange(0.0, 0.2, 0.1)\n",
    "y1 = 2*np.sin(2*np.pi*t)\n",
    "y2 = 4*np.sin(2*np.pi*2*t)\n",
    "\n",
    "fig, ax = plt.subplots()\n",
    "ax.set_title('Click on legend line to toggle line on/off')\n",
    "line1, = ax.plot(t, y1, lw=2, color='red', label='1 HZ')\n",
    "line2, = ax.plot(t, y2, lw=2, color='blue', label='2 HZ')\n",
    "leg = ax.legend(loc='upper left', fancybox=True, shadow=True)\n",
    "leg.get_frame().set_alpha(0.4)\n",
    "\n",
    "\n",
    "# we will set up a dict mapping legend line to orig line, and enable\n",
    "# picking on the legend line\n",
    "lines = [line1, line2]\n",
    "lined = dict()\n",
    "for legline, origline in zip(leg.get_lines(), lines):\n",
    "    legline.set_picker(5)  # 5 pts tolerance\n",
    "    lined[legline] = origline\n",
    "\n",
    "\n",
    "def onpick(event):\n",
    "    # on the pick event, find the orig line corresponding to the\n",
    "    # legend proxy line, and toggle the visibility\n",
    "    legline = event.artist\n",
    "    origline = lined[legline]\n",
    "    vis = not origline.get_visible()\n",
    "    origline.set_visible(vis)\n",
    "    # Change the alpha on the line in the legend so we can see what lines\n",
    "    # have been toggled\n",
    "    if vis:\n",
    "        legline.set_alpha(1.0)\n",
    "    else:\n",
    "        legline.set_alpha(0.2)\n",
    "    fig.canvas.draw()\n",
    "\n",
    "fig.canvas.mpl_connect('pick_event', onpick)\n",
    "\n",
    "plt.show()"
   ]
  },
  {
   "cell_type": "markdown",
   "metadata": {},
   "source": [
    "## 3. Slider and RadioButtons demo\n",
    "\n",
    "Source: https://matplotlib.org/3.1.1/gallery/widgets/slider_demo.html"
   ]
  },
  {
   "cell_type": "code",
   "execution_count": null,
   "metadata": {},
   "outputs": [],
   "source": [
    "from matplotlib.widgets import Slider, Button, RadioButtons\n",
    "\n",
    "fig, ax = plt.subplots()\n",
    "plt.subplots_adjust(left=0.25, bottom=0.25)\n",
    "t = np.arange(0.0, 1.0, 0.001)\n",
    "a0 = 5\n",
    "f0 = 3\n",
    "delta_f = 5.0\n",
    "s = a0 * np.sin(2 * np.pi * f0 * t)\n",
    "l, = plt.plot(t, s, lw=2)\n",
    "ax.margins(x=0)\n",
    "\n",
    "axcolor = 'lightgoldenrodyellow'\n",
    "axfreq = plt.axes([0.25, 0.1, 0.65, 0.03], facecolor=axcolor)\n",
    "axamp = plt.axes([0.25, 0.15, 0.65, 0.03], facecolor=axcolor)\n",
    "\n",
    "sfreq = Slider(axfreq, 'Freq', 0.1, 30.0, valinit=f0, valstep=delta_f)\n",
    "samp = Slider(axamp, 'Amp', 0.1, 10.0, valinit=a0)\n",
    "\n",
    "\n",
    "def update(val):\n",
    "    amp = samp.val\n",
    "    freq = sfreq.val\n",
    "    l.set_ydata(amp*np.sin(2*np.pi*freq*t))\n",
    "    fig.canvas.draw_idle()\n",
    "\n",
    "\n",
    "sfreq.on_changed(update)\n",
    "samp.on_changed(update)\n",
    "\n",
    "resetax = plt.axes([0.8, 0.025, 0.1, 0.04])\n",
    "button = Button(resetax, 'Reset', color=axcolor, hovercolor='0.975')\n",
    "\n",
    "\n",
    "def reset(event):\n",
    "    sfreq.reset()\n",
    "    samp.reset()\n",
    "button.on_clicked(reset)\n",
    "\n",
    "rax = plt.axes([0.025, 0.5, 0.15, 0.15], facecolor=axcolor)\n",
    "radio = RadioButtons(rax, ('red', 'blue', 'green'), active=0)\n",
    "\n",
    "\n",
    "def colorfunc(label):\n",
    "    l.set_color(label)\n",
    "    fig.canvas.draw_idle()\n",
    "radio.on_clicked(colorfunc)\n",
    "\n",
    "plt.show()"
   ]
  },
  {
   "cell_type": "markdown",
   "metadata": {},
   "source": [
    "<a id='plotly_in_qt'></a>\n",
    "## Embed plotly graph in Qt window"
   ]
  },
  {
   "cell_type": "code",
   "execution_count": null,
   "metadata": {},
   "outputs": [],
   "source": [
    "import os, sys\n",
    "from PyQt5.QtWidgets import QApplication\n",
    "from PyQt5.QtCore import QUrl\n",
    "from PyQt5 import QtWebEngineWidgets\n",
    "import plotly.io as pio\n",
    "import plotly.offline as offplt\n",
    "import plotly.graph_objs as go\n",
    "\n",
    "\n",
    "class PlotlyViewer(QtWebEngineWidgets.QWebEngineView):\n",
    "    def __init__(self, fig, exec=True):\n",
    "        # Create a QApplication instance or use the existing one if it exists\n",
    "        self.app = QApplication.instance() if QApplication.instance() else QApplication(sys.argv)\n",
    "\n",
    "        super().__init__()\n",
    "\n",
    "        self.file_path = os.path.abspath(os.path.join(os.path.dirname(__file__), \"temp.html\"))\n",
    "        html = offplt.plot(fig, output_type='', auto_open=False, include_plotlyjs=\"True\")\n",
    "        print(html)\n",
    "        self.setHtml(html)\n",
    "        self.setWindowTitle(\"Plotly Viewer\")\n",
    "        self.show()\n",
    "\n",
    "        if exec:\n",
    "            self.app.exec_()\n",
    "\n",
    "    def closeEvent(self, event):\n",
    "        os.remove(self.file_path)\n",
    "\n",
    "\n",
    "# Or a custom external renderer\n",
    "class MyExternalRenderer(pio.base_renderers.ExternalRenderer):\n",
    "    def activate(self):\n",
    "        pass\n",
    "\n",
    "    def render(self, fig_dict):\n",
    "        for key, fig in fig_dict.items():\n",
    "            win = PlotlyViewer(fig)\n",
    "\n",
    "\n",
    "# Register for use by name\n",
    "my_renderer = MyExternalRenderer()\n",
    "pio.renderers['my_renderer'] = my_renderer\n",
    "\n",
    "fig = go.Figure()\n",
    "fig.add_scatter(x=np.random.rand(100), y=np.random.rand(100), mode='markers',\n",
    "                marker={'size': 30, 'color': np.random.rand(100), 'opacity': 0.6,\n",
    "                        'colorscale': 'Viridis'})\n",
    "fig.show(renderer='my_renderer')"
   ]
  }
 ],
 "metadata": {
  "kernelspec": {
   "display_name": "Python 3",
   "language": "python",
   "name": "python3"
  },
  "language_info": {
   "codemirror_mode": {
    "name": "ipython",
    "version": 3
   },
   "file_extension": ".py",
   "mimetype": "text/x-python",
   "name": "python",
   "nbconvert_exporter": "python",
   "pygments_lexer": "ipython3",
   "version": "3.7.3"
  }
 },
 "nbformat": 4,
 "nbformat_minor": 2
}
