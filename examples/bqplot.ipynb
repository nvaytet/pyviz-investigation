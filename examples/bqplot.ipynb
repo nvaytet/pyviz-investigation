{
 "cells": [
  {
   "cell_type": "markdown",
   "metadata": {},
   "source": [
    "# Bqplot examples"
   ]
  },
  {
   "cell_type": "code",
   "execution_count": null,
   "metadata": {},
   "outputs": [],
   "source": [
    "import numpy as np\n",
    "from bqplot import pyplot as plt\n",
    "from ipywidgets import Layout\n",
    "import bqplot as bq"
   ]
  },
  {
   "cell_type": "markdown",
   "metadata": {},
   "source": [
    "## A simple 1D line plot with error bars"
   ]
  },
  {
   "cell_type": "code",
   "execution_count": null,
   "metadata": {},
   "outputs": [],
   "source": [
    "# There are no error bars in bqplot\n",
    "N = 50\n",
    "x = np.arange(N)\n",
    "y = np.random.rand(N)\n",
    "# e = 0.1*np.random.rand(N)\n",
    "fig1 = plt.figure(title='A 1D line plot')\n",
    "line = plt.plot(x, y, axes_options={'x': {'label': 'Some x label [m]'},\n",
    "                                          'y': {'label': 'A fancy y label [kg]'}})\n",
    "plt.show()"
   ]
  },
  {
   "cell_type": "markdown",
   "metadata": {},
   "source": [
    "## 1D histogram plot with error bars"
   ]
  },
  {
   "cell_type": "code",
   "execution_count": null,
   "metadata": {},
   "outputs": [],
   "source": [
    "# There are no error bars in bqplot\n",
    "N = 50\n",
    "x = np.arange(N+1)\n",
    "y = np.random.rand(N)\n",
    "# e = 0.1*np.random.rand(N)\n",
    "# fig = plt.figure()\n",
    "# ax = fig.add_subplot(111)\n",
    "# ax.bar(0.5*(x[:-1] + x[1:]), y, width=np.ediff1d(x),yerr=e)\n",
    "# ax.set_xlabel(\"Some x label [m]\")\n",
    "# ax.set_ylabel(\"A fancy y label [kg]\")\n",
    "# ax.set_title(\"A 1D histogram plot\")\n",
    "# fig.show()\n",
    "fig1 = plt.figure(title='A 1D histogram plot')\n",
    "line = plt.bar(0.5*(x[:-1] + x[1:]), y, axes_options={'x': {'label': 'Some x label [m]'},\n",
    "                                          'y': {'label': 'A fancy y label [kg]'}})\n",
    "plt.show()"
   ]
  },
  {
   "cell_type": "markdown",
   "metadata": {},
   "source": [
    "## 2D image/heatmap with uniformly sized pixels"
   ]
  },
  {
   "cell_type": "code",
   "execution_count": null,
   "metadata": {},
   "outputs": [],
   "source": [
    "N = 100\n",
    "M = 50\n",
    "x = np.arange(N+1)\n",
    "y = np.arange(M+1)\n",
    "z = np.random.rand(M, N).astype(np.float64)\n",
    "\n",
    "fig = plt.figure(title='A 2D image',\n",
    "                 layout=Layout(width='600px', height='350px'), padding_y=0)\n",
    "heatmap = plt.heatmap(z, x=x, y=y)\n",
    "fig"
   ]
  },
  {
   "cell_type": "markdown",
   "metadata": {},
   "source": [
    "## 2D filled contour plot"
   ]
  },
  {
   "cell_type": "code",
   "execution_count": null,
   "metadata": {},
   "outputs": [],
   "source": [
    "# Not possible in bqplot"
   ]
  },
  {
   "cell_type": "markdown",
   "metadata": {},
   "source": [
    "## 2D image/heatmap with non-uniformly sized pixels"
   ]
  },
  {
   "cell_type": "code",
   "execution_count": null,
   "metadata": {},
   "outputs": [],
   "source": [
    "N = 10\n",
    "M = 5\n",
    "x = np.arange(N)**2\n",
    "y = np.arange(M)\n",
    "z = np.random.rand(M, N).astype(np.float64)\n",
    "fig = plt.figure(title='Image with non-uniform pixels',\n",
    "                 layout=Layout(width='600px', height='350px'), padding_y=0)\n",
    "heatmap = plt.heatmap(z, x=x, y=y)\n",
    "fig"
   ]
  },
  {
   "cell_type": "markdown",
   "metadata": {},
   "source": [
    "## 2D scatter plot with different symbol sizes"
   ]
  },
  {
   "cell_type": "code",
   "execution_count": null,
   "metadata": {},
   "outputs": [],
   "source": [
    "N = 100\n",
    "x = np.random.rand(N).astype(np.float64)\n",
    "y = np.random.rand(N).astype(np.float64)\n",
    "z = np.random.rand(N).astype(np.float64)\n",
    "s = np.random.rand(N).astype(np.float64)\n",
    "\n",
    "fig = plt.figure(title=\"A 2D scatter plot\")\n",
    "plt.scales(scales={'color': bq.ColorScale(), 'size': bq.LinearScale()})\n",
    "axes_options = {'x': {'label': 'x coordinate'}, 'y': {'label': 'y coordinate'},\n",
    "                'color': dict(orientation='vertical', \n",
    "                              side='right')}\n",
    "scatt = plt.scatter(x, y, color=z, size=s, default_size=512, axes_options=axes_options, stroke='black')\n",
    "fig"
   ]
  },
  {
   "cell_type": "markdown",
   "metadata": {},
   "source": [
    "## 2D heatmap with slider through 3D data cube"
   ]
  },
  {
   "cell_type": "code",
   "execution_count": null,
   "metadata": {},
   "outputs": [],
   "source": [
    "from ipywidgets import VBox, IntSlider\n",
    " \n",
    "z = np.random.rand(10, 10, 10)\n",
    "idx = 0\n",
    "\n",
    "fig = plt.figure(title='A 2D image with slider',\n",
    "                 layout=Layout(width='600px', height='600px'), padding_y=0)\n",
    "heatmap = plt.heatmap(z[:, :, idx])\n",
    "\n",
    "slider = IntSlider(value=idx, min=0, max=9, step=1,\n",
    "                   description=\"Slice index\",\n",
    "                   continuous_update=True,\n",
    "                   readout=True)\n",
    "\n",
    "def update_depth(val):\n",
    "    idx = val[\"new\"]\n",
    "    fig.marks[0].color = z[:, :, idx]\n",
    "\n",
    "slider.observe(update_depth, names=\"value\")\n",
    "\n",
    "box = VBox([fig, slider])\n",
    "box"
   ]
  },
  {
   "cell_type": "markdown",
   "metadata": {},
   "source": [
    "## 3D line plot"
   ]
  },
  {
   "cell_type": "code",
   "execution_count": null,
   "metadata": {},
   "outputs": [],
   "source": [
    "# No 3D in bqplot"
   ]
  },
  {
   "cell_type": "markdown",
   "metadata": {},
   "source": [
    "## 3D scatter plot"
   ]
  },
  {
   "cell_type": "code",
   "execution_count": null,
   "metadata": {},
   "outputs": [],
   "source": [
    "# No 3D in bqplot"
   ]
  },
  {
   "cell_type": "markdown",
   "metadata": {},
   "source": [
    "## 3d surface"
   ]
  },
  {
   "cell_type": "code",
   "execution_count": null,
   "metadata": {},
   "outputs": [],
   "source": [
    "# No 3D in bqplot"
   ]
  },
  {
   "cell_type": "markdown",
   "metadata": {},
   "source": [
    "## 3D slicer"
   ]
  },
  {
   "cell_type": "code",
   "execution_count": null,
   "metadata": {},
   "outputs": [],
   "source": [
    "# No 3D in bqplot"
   ]
  },
  {
   "cell_type": "markdown",
   "metadata": {},
   "source": [
    "## 2D scatter plot with 100,000 points"
   ]
  },
  {
   "cell_type": "code",
   "execution_count": null,
   "metadata": {},
   "outputs": [],
   "source": [
    "# This crashed my browser, don't do it!\n",
    "\n",
    "# N = 100000\n",
    "# x = np.random.randn(N)\n",
    "# y = np.random.randn(N)\n",
    "# z = np.random.rand(N).astype(np.float64)\n",
    "\n",
    "# fig = plt.figure(title=\"A 2D scatter plot with 100,000 points\")\n",
    "# plt.scales(scales={'color': bq.ColorScale()})\n",
    "# axes_options = {'x': {'label': 'x coordinate'}, 'y': {'label': 'y coordinate'},\n",
    "#                 'color': dict(orientation='vertical', \n",
    "#                               side='right')}\n",
    "# scatt = plt.scatter(x, y, color=z, axes_options=axes_options, stroke='black')\n",
    "# fig"
   ]
  }
 ],
 "metadata": {
  "kernelspec": {
   "display_name": "Python 3",
   "language": "python",
   "name": "python3"
  },
  "language_info": {
   "codemirror_mode": {
    "name": "ipython",
    "version": 3
   },
   "file_extension": ".py",
   "mimetype": "text/x-python",
   "name": "python",
   "nbconvert_exporter": "python",
   "pygments_lexer": "ipython3",
   "version": "3.7.3"
  }
 },
 "nbformat": 4,
 "nbformat_minor": 2
}
