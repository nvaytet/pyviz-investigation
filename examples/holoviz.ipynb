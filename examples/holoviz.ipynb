{
 "cells": [
  {
   "cell_type": "markdown",
   "metadata": {},
   "source": [
    "# HoloViz examples"
   ]
  },
  {
   "cell_type": "code",
   "execution_count": null,
   "metadata": {},
   "outputs": [],
   "source": [
    "import numpy as np\n",
    "import xarray as xr\n",
    "import hvplot.xarray\n",
    "import holoviews as hv\n",
    "import pandas as pd\n",
    "import hvplot.pandas"
   ]
  },
  {
   "cell_type": "markdown",
   "metadata": {},
   "source": [
    "## A simple 1D line plot with error bars"
   ]
  },
  {
   "cell_type": "code",
   "execution_count": null,
   "metadata": {},
   "outputs": [],
   "source": [
    "N = 50\n",
    "x = np.arange(N)\n",
    "y = np.random.rand(N)\n",
    "\n",
    "data = xr.DataArray(y, dims=('x'), coords={'x': x})\n",
    "\n",
    "data.hvplot()"
   ]
  },
  {
   "cell_type": "markdown",
   "metadata": {},
   "source": [
    "## 1D histogram plot with error bars"
   ]
  },
  {
   "cell_type": "code",
   "execution_count": null,
   "metadata": {},
   "outputs": [],
   "source": [
    "N = 50\n",
    "x = np.arange(N)\n",
    "y = np.random.rand(N)\n",
    "e = 0.1*np.random.rand(N)\n",
    "\n",
    "data = xr.DataArray(y, dims=('x'), coords={'x': x})\n",
    "\n",
    "data.hvplot.bar()"
   ]
  },
  {
   "cell_type": "markdown",
   "metadata": {},
   "source": [
    "or simply"
   ]
  },
  {
   "cell_type": "code",
   "execution_count": null,
   "metadata": {},
   "outputs": [],
   "source": [
    "data.hvplot.step()"
   ]
  },
  {
   "cell_type": "markdown",
   "metadata": {},
   "source": [
    "## 2D image/heatmap with uniformly sized pixels"
   ]
  },
  {
   "cell_type": "code",
   "execution_count": null,
   "metadata": {},
   "outputs": [],
   "source": [
    "# Using Heatmap\n",
    "N = 100\n",
    "M = 50\n",
    "x = np.arange(N)\n",
    "y = np.arange(M)\n",
    "z = np.random.rand(M, N).astype(np.float64)\n",
    "\n",
    "data = xr.DataArray(z, dims=('y', 'x'), coords={'x': x, 'y': y})\n",
    "# By default the DataArray.hvplot() method generates an image if the data is two-dimensional.\n",
    "data.hvplot()"
   ]
  },
  {
   "cell_type": "code",
   "execution_count": null,
   "metadata": {},
   "outputs": [],
   "source": [
    "# Or using Holoviews\n",
    "N = 100\n",
    "M = 50\n",
    "x = np.arange(N)\n",
    "y = np.arange(M)\n",
    "z = np.random.rand(M, N).astype(np.float64)\n",
    "\n",
    "# Note that a hv.Dataset is different from a xr.Dataset\n",
    "ds = hv.Dataset((x, y, z), ['x', 'y'], 'z')\n",
    "im = ds.to(hv.Image, ['x', 'y']).options(colorbar=True, width=600, height=300)\n",
    "im"
   ]
  },
  {
   "cell_type": "markdown",
   "metadata": {},
   "source": [
    "## 2D filled contour plot"
   ]
  },
  {
   "cell_type": "code",
   "execution_count": null,
   "metadata": {},
   "outputs": [],
   "source": [
    "N = 100\n",
    "M = 50\n",
    "xx = np.arange(N, dtype=np.float64)\n",
    "yy = np.arange(M, dtype=np.float64)\n",
    "x, y = np.meshgrid(xx, yy)\n",
    "b = N/20.0\n",
    "c = M/2.0\n",
    "r = np.sqrt(((x-c)/b)**2 + ((y-c)/b)**2)\n",
    "z = np.sin(r)\n",
    "\n",
    "data = xr.DataArray(z, dims=('y', 'x'), coords={'y': yy, 'x': xx}) # Note that the order of the coords here is important!\n",
    "# By default the DataArray.hvplot() method generates an image if the data is two-dimensional.\n",
    "data.hvplot.contourf()"
   ]
  },
  {
   "cell_type": "markdown",
   "metadata": {},
   "source": [
    "## 2D image/heatmap with non-uniformly sized pixels"
   ]
  },
  {
   "cell_type": "code",
   "execution_count": null,
   "metadata": {},
   "outputs": [],
   "source": [
    "# N = 10\n",
    "# M = 5\n",
    "# x = np.arange(N+1)**2\n",
    "# y = np.arange(M+1)\n",
    "# z = np.random.rand(M, N).astype(np.float64)\n",
    "# data = {\"type\":\"heatmap\",\n",
    "#         \"x\":x,\n",
    "#         \"y\":y,\n",
    "#         \"z\":z,\n",
    "#         \"colorscale\":\"Viridis\",\n",
    "#         \"colorbar\":{\"title\":\"Counts\", \"titleside\":\"right\"}\n",
    "# }\n",
    "# layout = {\"xaxis\": {\"title\": \"x coordinate\"},\n",
    "#           \"yaxis\": {\"title\": \"y coordinate\"},\n",
    "#           \"title\": \"A 2D image with non-equal sized pixels\"\n",
    "# }\n",
    "# fig = go.Figure(data=data, layout=layout)\n",
    "# fig"
   ]
  },
  {
   "cell_type": "markdown",
   "metadata": {},
   "source": [
    "## 2D scatter plot with different symbol sizes"
   ]
  },
  {
   "cell_type": "code",
   "execution_count": null,
   "metadata": {},
   "outputs": [],
   "source": [
    "N = 100\n",
    "x = np.random.rand(N).astype(np.float64)\n",
    "y = np.random.rand(N).astype(np.float64)\n",
    "z = np.random.rand(N).astype(np.float64)\n",
    "s = 30.0*np.random.rand(N).astype(np.float64)\n",
    "\n",
    "scat = hv.Scatter(np.transpose([x, y, z, s]), vdims=['y', 'z', 's'])\n",
    "scat.opts(color='z', size='s', width=600, height=600, colorbar=True)"
   ]
  },
  {
   "cell_type": "code",
   "execution_count": null,
   "metadata": {},
   "outputs": [],
   "source": [
    "# Or with hvplot\n",
    "df = pd.DataFrame(np.transpose([x, y, z, s]), columns = ['x', 'y', 'z', 's']) \n",
    "df.hvplot.scatter('x', 'y', c='z', cmap='viridis', size='s', colorbar=True).opts(width=600, height=600)"
   ]
  },
  {
   "cell_type": "markdown",
   "metadata": {},
   "source": [
    "## 2D heatmap with slider through 3D data cube"
   ]
  },
  {
   "cell_type": "code",
   "execution_count": null,
   "metadata": {
    "scrolled": false
   },
   "outputs": [],
   "source": [
    "N = 10\n",
    "x = np.arange(N, dtype=np.float64)\n",
    "y = np.arange(N, dtype=np.float64)\n",
    "z = np.arange(N, dtype=np.float64)\n",
    "a = np.random.rand(N, N, N)\n",
    "data = xr.DataArray(a, dims=('z', 'y', 'x'), coords={'x': x, 'y': y, 'z': z})\n",
    "# By default the DataArray.hvplot() method generates an image with slider if the data is 3-dimensional\n",
    "data.hvplot(groupby='z').opts(width=600, height=500)"
   ]
  },
  {
   "cell_type": "markdown",
   "metadata": {},
   "source": [
    "## 3D line plot"
   ]
  },
  {
   "cell_type": "code",
   "execution_count": null,
   "metadata": {},
   "outputs": [],
   "source": [
    "hv.extension('plotly')"
   ]
  },
  {
   "cell_type": "code",
   "execution_count": null,
   "metadata": {
    "scrolled": false
   },
   "outputs": [],
   "source": [
    "N = 100\n",
    "M = 10\n",
    "xx = np.arange(N, dtype=np.float64)\n",
    "yy = np.arange(M, dtype=np.float64)\n",
    "x, y = np.meshgrid(xx, yy)\n",
    "b = M/2.0\n",
    "c = N/2.0\n",
    "r = np.sqrt(((x-c)/b)**2 + ((y-c)/b)**2)\n",
    "z = np.sin(r)\n",
    "\n",
    "\n",
    "line = np.transpose([xx, [0]*N, z[0, :]])\n",
    "path = hv.Path3D(line)\n",
    "for i in range(1, M):\n",
    "    line = np.transpose([xx, [i]*N, z[i, :]])\n",
    "    path *= hv.Path3D(line)\n",
    "\n",
    "path"
   ]
  },
  {
   "cell_type": "markdown",
   "metadata": {},
   "source": [
    "## 3D scatter plot"
   ]
  },
  {
   "cell_type": "code",
   "execution_count": null,
   "metadata": {
    "scrolled": false
   },
   "outputs": [],
   "source": [
    "N = 100\n",
    "x = np.random.rand(N).astype(np.float64)\n",
    "y = np.random.rand(N).astype(np.float64)\n",
    "z = np.random.rand(N).astype(np.float64)\n",
    "s = 30.0*np.random.rand(N).astype(np.float64)\n",
    "c = np.random.rand(N).astype(np.float64)\n",
    "\n",
    "hv.Scatter3D(np.transpose([x, y, z, s, c]), vdims=['s', 'c']).opts(\n",
    "    cmap='fire', color='c', size='s', colorbar=True)"
   ]
  },
  {
   "cell_type": "markdown",
   "metadata": {},
   "source": [
    "## 3d surface"
   ]
  },
  {
   "cell_type": "code",
   "execution_count": null,
   "metadata": {},
   "outputs": [],
   "source": [
    "X = np.arange(-5, 5, 0.25)\n",
    "Y = np.arange(-5, 5, 0.25)\n",
    "X, Y = np.meshgrid(X, Y)\n",
    "R = np.sqrt(X**2 + Y**2)\n",
    "Z = np.sin(R)\n",
    "\n",
    "hv.Surface(np.transpose([Z, Y, X]))"
   ]
  },
  {
   "cell_type": "markdown",
   "metadata": {},
   "source": [
    "## 3D slicer"
   ]
  },
  {
   "cell_type": "code",
   "execution_count": null,
   "metadata": {},
   "outputs": [],
   "source": [
    "# from matplotlib.widgets import Slider\n",
    "\n",
    "# N = 50\n",
    "# M = 40\n",
    "# L = 30\n",
    "# xx = np.arange(N, dtype=np.float64)\n",
    "# yy = np.arange(M, dtype=np.float64)\n",
    "# zz = np.arange(L, dtype=np.float64)\n",
    "# x, y, z = np.meshgrid(xx, yy, zz, indexing='ij')\n",
    "# b = N/20.0\n",
    "# c = M/2.0\n",
    "# d = L/2.0\n",
    "# r = np.sqrt(((x-c)/b)**2 + ((y-c)/b)**2 + ((z-d)/b)**2)\n",
    "# a = np.sin(r)\n",
    "# X, Y = np.meshgrid(xx, yy, indexing='ij')\n",
    "\n",
    "# fig = plt.figure()\n",
    "# ax = fig.add_subplot(111, projection='3d')\n",
    "# fig.subplots_adjust(bottom=0.15)\n",
    "\n",
    "# color_dimension = a[:,:,idx] # change to desired fourth dimension\n",
    "# minn, maxx = color_dimension.min(), color_dimension.max()\n",
    "# from matplotlib.colors import Normalize\n",
    "# norm = Normalize(minn, maxx)\n",
    "# m = plt.cm.ScalarMappable(norm=norm, cmap='viridis')\n",
    "# m.set_array([])\n",
    "# fcolors = m.to_rgba(color_dimension)\n",
    "\n",
    "# # im_h = ax.imshow(data[:, :, idx], interpolation='nearest')\n",
    "# surf = ax.plot_surface(X, Y, np.zeros_like(X), linewidth=0, antialiased=False, facecolors=fcolors)\n",
    "\n",
    "# ax.set_xlabel(\"x coordinate\")\n",
    "# ax.set_ylabel(\"y coordinate\")\n",
    "# ax.set_title(\"3D slicer\")\n",
    "# ax.set_zlim([0, L])\n",
    "# cb = plt.colorbar(surf)\n",
    "# cb.ax.set_ylabel(\"Counts\")\n",
    "\n",
    "# ax_depth = plt.axes([0.23, 0.02, 0.56, 0.04])\n",
    "# slider_depth = Slider(ax_depth,\n",
    "#     'depth',\n",
    "#     0,\n",
    "#     L-1,\n",
    "#     valinit=idx)\n",
    "\n",
    "# def update_depth(val):\n",
    "#     idx = int(round(slider_depth.val))\n",
    "#     fcolors = m.to_rgba(a[:,:,idx])\n",
    "# #     surf.set_verts() # Could not get the slider to work\n",
    "  \n",
    "# slider_depth.on_changed(update_depth)\n",
    "  \n",
    "# plt.show()"
   ]
  },
  {
   "cell_type": "markdown",
   "metadata": {},
   "source": [
    "## 2D scatter plot with 100,000 points"
   ]
  },
  {
   "cell_type": "code",
   "execution_count": null,
   "metadata": {},
   "outputs": [],
   "source": [
    "N = 100000\n",
    "x = np.random.randn(N)\n",
    "y = np.random.randn(N)\n",
    "z = np.random.rand(N).astype(np.float64)\n",
    "s = 30.0*np.random.rand(N).astype(np.float64)\n",
    "\n",
    "df = pd.DataFrame(np.transpose([x, y, z]), columns = ['x', 'y', 'z']) \n",
    "\n",
    "df.hvplot.scatter('x', 'y', c='z', cmap='viridis', size=12, colorbar=True)"
   ]
  },
  {
   "cell_type": "code",
   "execution_count": null,
   "metadata": {},
   "outputs": [],
   "source": [
    "df.hvplot.scatter('x', 'y', c='z', cmap='viridis', colorbar=True, datashade=True)"
   ]
  },
  {
   "cell_type": "code",
   "execution_count": null,
   "metadata": {},
   "outputs": [],
   "source": []
  }
 ],
 "metadata": {
  "kernelspec": {
   "display_name": "Python 3",
   "language": "python",
   "name": "python3"
  },
  "language_info": {
   "codemirror_mode": {
    "name": "ipython",
    "version": 3
   },
   "file_extension": ".py",
   "mimetype": "text/x-python",
   "name": "python",
   "nbconvert_exporter": "python",
   "pygments_lexer": "ipython3",
   "version": "3.7.3"
  }
 },
 "nbformat": 4,
 "nbformat_minor": 2
}
